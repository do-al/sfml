{
 "cells": [
  {
   "cell_type": "code",
   "execution_count": 1,
   "metadata": {},
   "outputs": [],
   "source": [
    "import pandas as pd\n",
    "import numpy as np\n",
    "import matplotlib.pyplot as plt\n",
    "\n",
    "%matplotlib inline\n",
    "\n",
    "plt.style.use('ggplot')\n",
    "plt.rcParams['figure.figsize'] = (12,5)"
   ]
  },
  {
   "cell_type": "code",
   "execution_count": 2,
   "metadata": {},
   "outputs": [],
   "source": [
    "#df_train = pd.read_csv('data/train.csv', encoding='utf-8',sep=',', index_col='_id')\n",
    "# Признак _id потом удалим\n",
    "df_train = pd.read_csv('data/train.csv', encoding='utf-8',sep=',')"
   ]
  },
  {
   "cell_type": "code",
   "execution_count": 3,
   "metadata": {},
   "outputs": [
    {
     "data": {
      "text/html": [
       "<div>\n",
       "<style scoped>\n",
       "    .dataframe tbody tr th:only-of-type {\n",
       "        vertical-align: middle;\n",
       "    }\n",
       "\n",
       "    .dataframe tbody tr th {\n",
       "        vertical-align: top;\n",
       "    }\n",
       "\n",
       "    .dataframe thead th {\n",
       "        text-align: right;\n",
       "    }\n",
       "</style>\n",
       "<table border=\"1\" class=\"dataframe\">\n",
       "  <thead>\n",
       "    <tr style=\"text-align: right;\">\n",
       "      <th></th>\n",
       "      <th>_id</th>\n",
       "      <th>age</th>\n",
       "      <th>job</th>\n",
       "      <th>marital</th>\n",
       "      <th>education</th>\n",
       "      <th>default</th>\n",
       "      <th>housing</th>\n",
       "      <th>loan</th>\n",
       "      <th>contact</th>\n",
       "      <th>month</th>\n",
       "      <th>...</th>\n",
       "      <th>campaign</th>\n",
       "      <th>pdays</th>\n",
       "      <th>previous</th>\n",
       "      <th>poutcome</th>\n",
       "      <th>emp.var.rate</th>\n",
       "      <th>cons.price.idx</th>\n",
       "      <th>cons.conf.idx</th>\n",
       "      <th>euribor3m</th>\n",
       "      <th>nr.employed</th>\n",
       "      <th>target</th>\n",
       "    </tr>\n",
       "  </thead>\n",
       "  <tbody>\n",
       "    <tr>\n",
       "      <th>0</th>\n",
       "      <td>df7489733b004bbe40d3d37b34f82419</td>\n",
       "      <td>54</td>\n",
       "      <td>technician</td>\n",
       "      <td>married</td>\n",
       "      <td>professional.course</td>\n",
       "      <td>unknown</td>\n",
       "      <td>no</td>\n",
       "      <td>no</td>\n",
       "      <td>cellular</td>\n",
       "      <td>aug</td>\n",
       "      <td>...</td>\n",
       "      <td>1</td>\n",
       "      <td>999</td>\n",
       "      <td>0</td>\n",
       "      <td>nonexistent</td>\n",
       "      <td>1.4</td>\n",
       "      <td>93.444</td>\n",
       "      <td>-36.1</td>\n",
       "      <td>4.963</td>\n",
       "      <td>5228.1</td>\n",
       "      <td>0</td>\n",
       "    </tr>\n",
       "    <tr>\n",
       "      <th>1</th>\n",
       "      <td>905a0b9a5456ee962223033473666be3</td>\n",
       "      <td>36</td>\n",
       "      <td>services</td>\n",
       "      <td>single</td>\n",
       "      <td>basic.4y</td>\n",
       "      <td>no</td>\n",
       "      <td>no</td>\n",
       "      <td>no</td>\n",
       "      <td>telephone</td>\n",
       "      <td>may</td>\n",
       "      <td>...</td>\n",
       "      <td>1</td>\n",
       "      <td>999</td>\n",
       "      <td>0</td>\n",
       "      <td>nonexistent</td>\n",
       "      <td>1.1</td>\n",
       "      <td>93.994</td>\n",
       "      <td>-36.4</td>\n",
       "      <td>4.857</td>\n",
       "      <td>5191.0</td>\n",
       "      <td>0</td>\n",
       "    </tr>\n",
       "    <tr>\n",
       "      <th>2</th>\n",
       "      <td>02d69c07ec6d68e31d641edd45ce61cd</td>\n",
       "      <td>53</td>\n",
       "      <td>blue-collar</td>\n",
       "      <td>married</td>\n",
       "      <td>basic.4y</td>\n",
       "      <td>no</td>\n",
       "      <td>yes</td>\n",
       "      <td>no</td>\n",
       "      <td>cellular</td>\n",
       "      <td>aug</td>\n",
       "      <td>...</td>\n",
       "      <td>1</td>\n",
       "      <td>999</td>\n",
       "      <td>0</td>\n",
       "      <td>nonexistent</td>\n",
       "      <td>1.4</td>\n",
       "      <td>93.444</td>\n",
       "      <td>-36.1</td>\n",
       "      <td>4.965</td>\n",
       "      <td>5228.1</td>\n",
       "      <td>0</td>\n",
       "    </tr>\n",
       "    <tr>\n",
       "      <th>3</th>\n",
       "      <td>e492fbe0cccaf67cdb5c0944dbc8a167</td>\n",
       "      <td>34</td>\n",
       "      <td>blue-collar</td>\n",
       "      <td>married</td>\n",
       "      <td>basic.9y</td>\n",
       "      <td>no</td>\n",
       "      <td>yes</td>\n",
       "      <td>yes</td>\n",
       "      <td>telephone</td>\n",
       "      <td>may</td>\n",
       "      <td>...</td>\n",
       "      <td>2</td>\n",
       "      <td>999</td>\n",
       "      <td>0</td>\n",
       "      <td>nonexistent</td>\n",
       "      <td>1.1</td>\n",
       "      <td>93.994</td>\n",
       "      <td>-36.4</td>\n",
       "      <td>4.857</td>\n",
       "      <td>5191.0</td>\n",
       "      <td>0</td>\n",
       "    </tr>\n",
       "    <tr>\n",
       "      <th>4</th>\n",
       "      <td>ac2dc6f5835bdea8e71dd99b65208d07</td>\n",
       "      <td>29</td>\n",
       "      <td>services</td>\n",
       "      <td>single</td>\n",
       "      <td>university.degree</td>\n",
       "      <td>no</td>\n",
       "      <td>yes</td>\n",
       "      <td>no</td>\n",
       "      <td>telephone</td>\n",
       "      <td>aug</td>\n",
       "      <td>...</td>\n",
       "      <td>1</td>\n",
       "      <td>999</td>\n",
       "      <td>0</td>\n",
       "      <td>nonexistent</td>\n",
       "      <td>-1.7</td>\n",
       "      <td>94.027</td>\n",
       "      <td>-38.3</td>\n",
       "      <td>0.890</td>\n",
       "      <td>4991.6</td>\n",
       "      <td>0</td>\n",
       "    </tr>\n",
       "  </tbody>\n",
       "</table>\n",
       "<p>5 rows × 22 columns</p>\n",
       "</div>"
      ],
      "text/plain": [
       "                                _id  age          job  marital  \\\n",
       "0  df7489733b004bbe40d3d37b34f82419   54   technician  married   \n",
       "1  905a0b9a5456ee962223033473666be3   36     services   single   \n",
       "2  02d69c07ec6d68e31d641edd45ce61cd   53  blue-collar  married   \n",
       "3  e492fbe0cccaf67cdb5c0944dbc8a167   34  blue-collar  married   \n",
       "4  ac2dc6f5835bdea8e71dd99b65208d07   29     services   single   \n",
       "\n",
       "             education  default housing loan    contact month   ...    \\\n",
       "0  professional.course  unknown      no   no   cellular   aug   ...     \n",
       "1             basic.4y       no      no   no  telephone   may   ...     \n",
       "2             basic.4y       no     yes   no   cellular   aug   ...     \n",
       "3             basic.9y       no     yes  yes  telephone   may   ...     \n",
       "4    university.degree       no     yes   no  telephone   aug   ...     \n",
       "\n",
       "  campaign  pdays  previous     poutcome  emp.var.rate cons.price.idx  \\\n",
       "0        1    999         0  nonexistent           1.4         93.444   \n",
       "1        1    999         0  nonexistent           1.1         93.994   \n",
       "2        1    999         0  nonexistent           1.4         93.444   \n",
       "3        2    999         0  nonexistent           1.1         93.994   \n",
       "4        1    999         0  nonexistent          -1.7         94.027   \n",
       "\n",
       "   cons.conf.idx  euribor3m  nr.employed  target  \n",
       "0          -36.1      4.963       5228.1       0  \n",
       "1          -36.4      4.857       5191.0       0  \n",
       "2          -36.1      4.965       5228.1       0  \n",
       "3          -36.4      4.857       5191.0       0  \n",
       "4          -38.3      0.890       4991.6       0  \n",
       "\n",
       "[5 rows x 22 columns]"
      ]
     },
     "execution_count": 3,
     "metadata": {},
     "output_type": "execute_result"
    }
   ],
   "source": [
    "df_train.head(5)"
   ]
  },
  {
   "cell_type": "code",
   "execution_count": 4,
   "metadata": {},
   "outputs": [
    {
     "name": "stdout",
     "output_type": "stream",
     "text": [
      "<class 'pandas.core.frame.DataFrame'>\n",
      "RangeIndex: 24712 entries, 0 to 24711\n",
      "Data columns (total 22 columns):\n",
      "_id               24712 non-null object\n",
      "age               24712 non-null int64\n",
      "job               24712 non-null object\n",
      "marital           24712 non-null object\n",
      "education         24712 non-null object\n",
      "default           24712 non-null object\n",
      "housing           24712 non-null object\n",
      "loan              24712 non-null object\n",
      "contact           24712 non-null object\n",
      "month             24712 non-null object\n",
      "day_of_week       24712 non-null object\n",
      "duration          24712 non-null int64\n",
      "campaign          24712 non-null int64\n",
      "pdays             24712 non-null int64\n",
      "previous          24712 non-null int64\n",
      "poutcome          24712 non-null object\n",
      "emp.var.rate      24712 non-null float64\n",
      "cons.price.idx    24712 non-null float64\n",
      "cons.conf.idx     24712 non-null float64\n",
      "euribor3m         24712 non-null float64\n",
      "nr.employed       24712 non-null float64\n",
      "target            24712 non-null int64\n",
      "dtypes: float64(5), int64(6), object(11)\n",
      "memory usage: 4.1+ MB\n"
     ]
    }
   ],
   "source": [
    "df_train.info()"
   ]
  },
  {
   "cell_type": "code",
   "execution_count": 5,
   "metadata": {},
   "outputs": [
    {
     "data": {
      "text/plain": [
       "24712"
      ]
     },
     "execution_count": 5,
     "metadata": {},
     "output_type": "execute_result"
    }
   ],
   "source": [
    "len(list(df_train['_id']))"
   ]
  },
  {
   "cell_type": "code",
   "execution_count": 6,
   "metadata": {},
   "outputs": [],
   "source": [
    "#df_test = pd.read_csv('data/test.csv', encoding='utf-8',sep=',', index_col='_id')\n",
    "df_test = pd.read_csv('data/test.csv', encoding='utf-8',sep=',')"
   ]
  },
  {
   "cell_type": "code",
   "execution_count": 7,
   "metadata": {},
   "outputs": [
    {
     "data": {
      "text/html": [
       "<div>\n",
       "<style scoped>\n",
       "    .dataframe tbody tr th:only-of-type {\n",
       "        vertical-align: middle;\n",
       "    }\n",
       "\n",
       "    .dataframe tbody tr th {\n",
       "        vertical-align: top;\n",
       "    }\n",
       "\n",
       "    .dataframe thead th {\n",
       "        text-align: right;\n",
       "    }\n",
       "</style>\n",
       "<table border=\"1\" class=\"dataframe\">\n",
       "  <thead>\n",
       "    <tr style=\"text-align: right;\">\n",
       "      <th></th>\n",
       "      <th>_id</th>\n",
       "      <th>age</th>\n",
       "      <th>job</th>\n",
       "      <th>marital</th>\n",
       "      <th>education</th>\n",
       "      <th>default</th>\n",
       "      <th>housing</th>\n",
       "      <th>loan</th>\n",
       "      <th>contact</th>\n",
       "      <th>month</th>\n",
       "      <th>...</th>\n",
       "      <th>duration</th>\n",
       "      <th>campaign</th>\n",
       "      <th>pdays</th>\n",
       "      <th>previous</th>\n",
       "      <th>poutcome</th>\n",
       "      <th>emp.var.rate</th>\n",
       "      <th>cons.price.idx</th>\n",
       "      <th>cons.conf.idx</th>\n",
       "      <th>euribor3m</th>\n",
       "      <th>nr.employed</th>\n",
       "    </tr>\n",
       "  </thead>\n",
       "  <tbody>\n",
       "    <tr>\n",
       "      <th>0</th>\n",
       "      <td>66810d8e6bf2b41c880a7bc6c8a1e295</td>\n",
       "      <td>57</td>\n",
       "      <td>technician</td>\n",
       "      <td>married</td>\n",
       "      <td>high.school</td>\n",
       "      <td>no</td>\n",
       "      <td>no</td>\n",
       "      <td>yes</td>\n",
       "      <td>cellular</td>\n",
       "      <td>may</td>\n",
       "      <td>...</td>\n",
       "      <td>371</td>\n",
       "      <td>1</td>\n",
       "      <td>999</td>\n",
       "      <td>1</td>\n",
       "      <td>failure</td>\n",
       "      <td>-1.8</td>\n",
       "      <td>92.893</td>\n",
       "      <td>-46.2</td>\n",
       "      <td>1.299</td>\n",
       "      <td>5099.1</td>\n",
       "    </tr>\n",
       "    <tr>\n",
       "      <th>1</th>\n",
       "      <td>ccac3879652b08cb8b44c1920fd93afa</td>\n",
       "      <td>55</td>\n",
       "      <td>unknown</td>\n",
       "      <td>married</td>\n",
       "      <td>unknown</td>\n",
       "      <td>unknown</td>\n",
       "      <td>yes</td>\n",
       "      <td>no</td>\n",
       "      <td>telephone</td>\n",
       "      <td>may</td>\n",
       "      <td>...</td>\n",
       "      <td>285</td>\n",
       "      <td>2</td>\n",
       "      <td>999</td>\n",
       "      <td>0</td>\n",
       "      <td>nonexistent</td>\n",
       "      <td>1.1</td>\n",
       "      <td>93.994</td>\n",
       "      <td>-36.4</td>\n",
       "      <td>4.860</td>\n",
       "      <td>5191.0</td>\n",
       "    </tr>\n",
       "    <tr>\n",
       "      <th>2</th>\n",
       "      <td>fcccab4d7a76f70647f015f2c84c2af8</td>\n",
       "      <td>33</td>\n",
       "      <td>blue-collar</td>\n",
       "      <td>married</td>\n",
       "      <td>basic.9y</td>\n",
       "      <td>no</td>\n",
       "      <td>no</td>\n",
       "      <td>no</td>\n",
       "      <td>cellular</td>\n",
       "      <td>may</td>\n",
       "      <td>...</td>\n",
       "      <td>52</td>\n",
       "      <td>1</td>\n",
       "      <td>999</td>\n",
       "      <td>1</td>\n",
       "      <td>failure</td>\n",
       "      <td>-1.8</td>\n",
       "      <td>92.893</td>\n",
       "      <td>-46.2</td>\n",
       "      <td>1.313</td>\n",
       "      <td>5099.1</td>\n",
       "    </tr>\n",
       "    <tr>\n",
       "      <th>3</th>\n",
       "      <td>ed8399278c30678dab739045fa12b440</td>\n",
       "      <td>36</td>\n",
       "      <td>admin.</td>\n",
       "      <td>married</td>\n",
       "      <td>high.school</td>\n",
       "      <td>no</td>\n",
       "      <td>no</td>\n",
       "      <td>no</td>\n",
       "      <td>telephone</td>\n",
       "      <td>jun</td>\n",
       "      <td>...</td>\n",
       "      <td>355</td>\n",
       "      <td>4</td>\n",
       "      <td>999</td>\n",
       "      <td>0</td>\n",
       "      <td>nonexistent</td>\n",
       "      <td>1.4</td>\n",
       "      <td>94.465</td>\n",
       "      <td>-41.8</td>\n",
       "      <td>4.967</td>\n",
       "      <td>5228.1</td>\n",
       "    </tr>\n",
       "    <tr>\n",
       "      <th>4</th>\n",
       "      <td>1d4d62ac5cabcb48bac7112813f290cb</td>\n",
       "      <td>27</td>\n",
       "      <td>housemaid</td>\n",
       "      <td>married</td>\n",
       "      <td>high.school</td>\n",
       "      <td>no</td>\n",
       "      <td>yes</td>\n",
       "      <td>no</td>\n",
       "      <td>cellular</td>\n",
       "      <td>jul</td>\n",
       "      <td>...</td>\n",
       "      <td>189</td>\n",
       "      <td>2</td>\n",
       "      <td>999</td>\n",
       "      <td>0</td>\n",
       "      <td>nonexistent</td>\n",
       "      <td>1.4</td>\n",
       "      <td>93.918</td>\n",
       "      <td>-42.7</td>\n",
       "      <td>4.963</td>\n",
       "      <td>5228.1</td>\n",
       "    </tr>\n",
       "  </tbody>\n",
       "</table>\n",
       "<p>5 rows × 21 columns</p>\n",
       "</div>"
      ],
      "text/plain": [
       "                                _id  age          job  marital    education  \\\n",
       "0  66810d8e6bf2b41c880a7bc6c8a1e295   57   technician  married  high.school   \n",
       "1  ccac3879652b08cb8b44c1920fd93afa   55      unknown  married      unknown   \n",
       "2  fcccab4d7a76f70647f015f2c84c2af8   33  blue-collar  married     basic.9y   \n",
       "3  ed8399278c30678dab739045fa12b440   36       admin.  married  high.school   \n",
       "4  1d4d62ac5cabcb48bac7112813f290cb   27    housemaid  married  high.school   \n",
       "\n",
       "   default housing loan    contact month     ...      duration  campaign  \\\n",
       "0       no      no  yes   cellular   may     ...           371         1   \n",
       "1  unknown     yes   no  telephone   may     ...           285         2   \n",
       "2       no      no   no   cellular   may     ...            52         1   \n",
       "3       no      no   no  telephone   jun     ...           355         4   \n",
       "4       no     yes   no   cellular   jul     ...           189         2   \n",
       "\n",
       "   pdays  previous     poutcome emp.var.rate  cons.price.idx  cons.conf.idx  \\\n",
       "0    999         1      failure         -1.8          92.893          -46.2   \n",
       "1    999         0  nonexistent          1.1          93.994          -36.4   \n",
       "2    999         1      failure         -1.8          92.893          -46.2   \n",
       "3    999         0  nonexistent          1.4          94.465          -41.8   \n",
       "4    999         0  nonexistent          1.4          93.918          -42.7   \n",
       "\n",
       "   euribor3m  nr.employed  \n",
       "0      1.299       5099.1  \n",
       "1      4.860       5191.0  \n",
       "2      1.313       5099.1  \n",
       "3      4.967       5228.1  \n",
       "4      4.963       5228.1  \n",
       "\n",
       "[5 rows x 21 columns]"
      ]
     },
     "execution_count": 7,
     "metadata": {},
     "output_type": "execute_result"
    }
   ],
   "source": [
    "df_test.head()"
   ]
  },
  {
   "cell_type": "code",
   "execution_count": 8,
   "metadata": {},
   "outputs": [
    {
     "name": "stdout",
     "output_type": "stream",
     "text": [
      "<class 'pandas.core.frame.DataFrame'>\n",
      "RangeIndex: 16476 entries, 0 to 16475\n",
      "Data columns (total 21 columns):\n",
      "_id               16476 non-null object\n",
      "age               16476 non-null int64\n",
      "job               16476 non-null object\n",
      "marital           16476 non-null object\n",
      "education         16476 non-null object\n",
      "default           16476 non-null object\n",
      "housing           16476 non-null object\n",
      "loan              16476 non-null object\n",
      "contact           16476 non-null object\n",
      "month             16476 non-null object\n",
      "day_of_week       16476 non-null object\n",
      "duration          16476 non-null int64\n",
      "campaign          16476 non-null int64\n",
      "pdays             16476 non-null int64\n",
      "previous          16476 non-null int64\n",
      "poutcome          16476 non-null object\n",
      "emp.var.rate      16476 non-null float64\n",
      "cons.price.idx    16476 non-null float64\n",
      "cons.conf.idx     16476 non-null float64\n",
      "euribor3m         16476 non-null float64\n",
      "nr.employed       16476 non-null float64\n",
      "dtypes: float64(5), int64(5), object(11)\n",
      "memory usage: 2.6+ MB\n"
     ]
    }
   ],
   "source": [
    "df_test.info()"
   ]
  },
  {
   "cell_type": "code",
   "execution_count": 9,
   "metadata": {},
   "outputs": [
    {
     "data": {
      "text/plain": [
       "16476"
      ]
     },
     "execution_count": 9,
     "metadata": {},
     "output_type": "execute_result"
    }
   ],
   "source": [
    "len(list(df_test['_id']))"
   ]
  },
  {
   "cell_type": "code",
   "execution_count": 10,
   "metadata": {},
   "outputs": [
    {
     "data": {
      "text/html": [
       "<div>\n",
       "<style scoped>\n",
       "    .dataframe tbody tr th:only-of-type {\n",
       "        vertical-align: middle;\n",
       "    }\n",
       "\n",
       "    .dataframe tbody tr th {\n",
       "        vertical-align: top;\n",
       "    }\n",
       "\n",
       "    .dataframe thead th {\n",
       "        text-align: right;\n",
       "    }\n",
       "</style>\n",
       "<table border=\"1\" class=\"dataframe\">\n",
       "  <thead>\n",
       "    <tr style=\"text-align: right;\">\n",
       "      <th></th>\n",
       "      <th>count</th>\n",
       "      <th>mean</th>\n",
       "      <th>std</th>\n",
       "      <th>min</th>\n",
       "      <th>25%</th>\n",
       "      <th>50%</th>\n",
       "      <th>75%</th>\n",
       "      <th>max</th>\n",
       "    </tr>\n",
       "  </thead>\n",
       "  <tbody>\n",
       "    <tr>\n",
       "      <th>age</th>\n",
       "      <td>24712.0</td>\n",
       "      <td>40.030188</td>\n",
       "      <td>10.462301</td>\n",
       "      <td>17.000</td>\n",
       "      <td>32.000</td>\n",
       "      <td>38.000</td>\n",
       "      <td>47.000</td>\n",
       "      <td>98.000</td>\n",
       "    </tr>\n",
       "    <tr>\n",
       "      <th>duration</th>\n",
       "      <td>24712.0</td>\n",
       "      <td>258.345298</td>\n",
       "      <td>261.573344</td>\n",
       "      <td>0.000</td>\n",
       "      <td>102.000</td>\n",
       "      <td>180.000</td>\n",
       "      <td>319.000</td>\n",
       "      <td>4918.000</td>\n",
       "    </tr>\n",
       "    <tr>\n",
       "      <th>campaign</th>\n",
       "      <td>24712.0</td>\n",
       "      <td>2.580163</td>\n",
       "      <td>2.776757</td>\n",
       "      <td>1.000</td>\n",
       "      <td>1.000</td>\n",
       "      <td>2.000</td>\n",
       "      <td>3.000</td>\n",
       "      <td>43.000</td>\n",
       "    </tr>\n",
       "    <tr>\n",
       "      <th>pdays</th>\n",
       "      <td>24712.0</td>\n",
       "      <td>963.558797</td>\n",
       "      <td>184.224885</td>\n",
       "      <td>0.000</td>\n",
       "      <td>999.000</td>\n",
       "      <td>999.000</td>\n",
       "      <td>999.000</td>\n",
       "      <td>999.000</td>\n",
       "    </tr>\n",
       "    <tr>\n",
       "      <th>previous</th>\n",
       "      <td>24712.0</td>\n",
       "      <td>0.171900</td>\n",
       "      <td>0.491511</td>\n",
       "      <td>0.000</td>\n",
       "      <td>0.000</td>\n",
       "      <td>0.000</td>\n",
       "      <td>0.000</td>\n",
       "      <td>6.000</td>\n",
       "    </tr>\n",
       "    <tr>\n",
       "      <th>emp.var.rate</th>\n",
       "      <td>24712.0</td>\n",
       "      <td>0.082713</td>\n",
       "      <td>1.572300</td>\n",
       "      <td>-3.400</td>\n",
       "      <td>-1.800</td>\n",
       "      <td>1.100</td>\n",
       "      <td>1.400</td>\n",
       "      <td>1.400</td>\n",
       "    </tr>\n",
       "    <tr>\n",
       "      <th>cons.price.idx</th>\n",
       "      <td>24712.0</td>\n",
       "      <td>93.576386</td>\n",
       "      <td>0.579548</td>\n",
       "      <td>92.201</td>\n",
       "      <td>93.075</td>\n",
       "      <td>93.749</td>\n",
       "      <td>93.994</td>\n",
       "      <td>94.767</td>\n",
       "    </tr>\n",
       "    <tr>\n",
       "      <th>cons.conf.idx</th>\n",
       "      <td>24712.0</td>\n",
       "      <td>-40.516077</td>\n",
       "      <td>4.639359</td>\n",
       "      <td>-50.800</td>\n",
       "      <td>-42.700</td>\n",
       "      <td>-41.800</td>\n",
       "      <td>-36.400</td>\n",
       "      <td>-26.900</td>\n",
       "    </tr>\n",
       "    <tr>\n",
       "      <th>euribor3m</th>\n",
       "      <td>24712.0</td>\n",
       "      <td>3.619397</td>\n",
       "      <td>1.737099</td>\n",
       "      <td>0.634</td>\n",
       "      <td>1.344</td>\n",
       "      <td>4.857</td>\n",
       "      <td>4.961</td>\n",
       "      <td>5.045</td>\n",
       "    </tr>\n",
       "    <tr>\n",
       "      <th>nr.employed</th>\n",
       "      <td>24712.0</td>\n",
       "      <td>5166.988111</td>\n",
       "      <td>72.516221</td>\n",
       "      <td>4963.600</td>\n",
       "      <td>5099.100</td>\n",
       "      <td>5191.000</td>\n",
       "      <td>5228.100</td>\n",
       "      <td>5228.100</td>\n",
       "    </tr>\n",
       "    <tr>\n",
       "      <th>target</th>\n",
       "      <td>24712.0</td>\n",
       "      <td>0.112779</td>\n",
       "      <td>0.316329</td>\n",
       "      <td>0.000</td>\n",
       "      <td>0.000</td>\n",
       "      <td>0.000</td>\n",
       "      <td>0.000</td>\n",
       "      <td>1.000</td>\n",
       "    </tr>\n",
       "  </tbody>\n",
       "</table>\n",
       "</div>"
      ],
      "text/plain": [
       "                  count         mean         std       min       25%  \\\n",
       "age             24712.0    40.030188   10.462301    17.000    32.000   \n",
       "duration        24712.0   258.345298  261.573344     0.000   102.000   \n",
       "campaign        24712.0     2.580163    2.776757     1.000     1.000   \n",
       "pdays           24712.0   963.558797  184.224885     0.000   999.000   \n",
       "previous        24712.0     0.171900    0.491511     0.000     0.000   \n",
       "emp.var.rate    24712.0     0.082713    1.572300    -3.400    -1.800   \n",
       "cons.price.idx  24712.0    93.576386    0.579548    92.201    93.075   \n",
       "cons.conf.idx   24712.0   -40.516077    4.639359   -50.800   -42.700   \n",
       "euribor3m       24712.0     3.619397    1.737099     0.634     1.344   \n",
       "nr.employed     24712.0  5166.988111   72.516221  4963.600  5099.100   \n",
       "target          24712.0     0.112779    0.316329     0.000     0.000   \n",
       "\n",
       "                     50%       75%       max  \n",
       "age               38.000    47.000    98.000  \n",
       "duration         180.000   319.000  4918.000  \n",
       "campaign           2.000     3.000    43.000  \n",
       "pdays            999.000   999.000   999.000  \n",
       "previous           0.000     0.000     6.000  \n",
       "emp.var.rate       1.100     1.400     1.400  \n",
       "cons.price.idx    93.749    93.994    94.767  \n",
       "cons.conf.idx    -41.800   -36.400   -26.900  \n",
       "euribor3m          4.857     4.961     5.045  \n",
       "nr.employed     5191.000  5228.100  5228.100  \n",
       "target             0.000     0.000     1.000  "
      ]
     },
     "execution_count": 10,
     "metadata": {},
     "output_type": "execute_result"
    }
   ],
   "source": [
    "df_train.describe().T"
   ]
  },
  {
   "cell_type": "code",
   "execution_count": 11,
   "metadata": {},
   "outputs": [],
   "source": [
    "# Разделим данные с разными значениями TARGET - для поиска значимых и незначимых прихнаков."
   ]
  },
  {
   "cell_type": "code",
   "execution_count": 12,
   "metadata": {},
   "outputs": [],
   "source": [
    "df_train_0 = df_train.query('target == 0')"
   ]
  },
  {
   "cell_type": "code",
   "execution_count": 13,
   "metadata": {},
   "outputs": [
    {
     "data": {
      "text/plain": [
       "0    21925\n",
       "Name: target, dtype: int64"
      ]
     },
     "execution_count": 13,
     "metadata": {},
     "output_type": "execute_result"
    }
   ],
   "source": [
    "df_train_0['target'].value_counts()"
   ]
  },
  {
   "cell_type": "code",
   "execution_count": 14,
   "metadata": {},
   "outputs": [],
   "source": [
    "df_train_1 = df_train.query('target == 1')"
   ]
  },
  {
   "cell_type": "code",
   "execution_count": 15,
   "metadata": {},
   "outputs": [
    {
     "data": {
      "text/plain": [
       "1    2787\n",
       "Name: target, dtype: int64"
      ]
     },
     "execution_count": 15,
     "metadata": {},
     "output_type": "execute_result"
    }
   ],
   "source": [
    "df_train_1['target'].value_counts()"
   ]
  },
  {
   "cell_type": "code",
   "execution_count": 16,
   "metadata": {},
   "outputs": [
    {
     "data": {
      "text/plain": [
       "24712"
      ]
     },
     "execution_count": 16,
     "metadata": {},
     "output_type": "execute_result"
    }
   ],
   "source": [
    "21925+2787"
   ]
  },
  {
   "cell_type": "code",
   "execution_count": 17,
   "metadata": {},
   "outputs": [
    {
     "data": {
      "text/plain": [
       "0.11277921657494334"
      ]
     },
     "execution_count": 17,
     "metadata": {},
     "output_type": "execute_result"
    }
   ],
   "source": [
    "# Доля единиц\n",
    "2787/24712\n",
    "# будем использовать для балансировки классов"
   ]
  },
  {
   "cell_type": "code",
   "execution_count": null,
   "metadata": {},
   "outputs": [],
   "source": [
    "# Сравним статистические показатели для ЧИСЛОВЫХ данных: отдельно с TARGET=0 и с TARGET=1.\n",
    "# Если средние значения какого-то признака очень близки (ну... и min, max),- \n",
    "# то влияние признака не выявлено\n",
    "# На дисперсию пока не смотрим\n",
    "# Комбинирование признаков пока тоже не смотрим..."
   ]
  },
  {
   "cell_type": "code",
   "execution_count": 18,
   "metadata": {},
   "outputs": [
    {
     "data": {
      "text/html": [
       "<div>\n",
       "<style scoped>\n",
       "    .dataframe tbody tr th:only-of-type {\n",
       "        vertical-align: middle;\n",
       "    }\n",
       "\n",
       "    .dataframe tbody tr th {\n",
       "        vertical-align: top;\n",
       "    }\n",
       "\n",
       "    .dataframe thead th {\n",
       "        text-align: right;\n",
       "    }\n",
       "</style>\n",
       "<table border=\"1\" class=\"dataframe\">\n",
       "  <thead>\n",
       "    <tr style=\"text-align: right;\">\n",
       "      <th></th>\n",
       "      <th>count</th>\n",
       "      <th>mean</th>\n",
       "      <th>std</th>\n",
       "      <th>min</th>\n",
       "      <th>25%</th>\n",
       "      <th>50%</th>\n",
       "      <th>75%</th>\n",
       "      <th>max</th>\n",
       "    </tr>\n",
       "  </thead>\n",
       "  <tbody>\n",
       "    <tr>\n",
       "      <th>age</th>\n",
       "      <td>21925.0</td>\n",
       "      <td>39.929076</td>\n",
       "      <td>9.950976</td>\n",
       "      <td>17.000</td>\n",
       "      <td>32.000</td>\n",
       "      <td>38.000</td>\n",
       "      <td>47.000</td>\n",
       "      <td>95.000</td>\n",
       "    </tr>\n",
       "    <tr>\n",
       "      <th>duration</th>\n",
       "      <td>21925.0</td>\n",
       "      <td>221.030513</td>\n",
       "      <td>209.732400</td>\n",
       "      <td>0.000</td>\n",
       "      <td>95.000</td>\n",
       "      <td>163.000</td>\n",
       "      <td>278.000</td>\n",
       "      <td>4918.000</td>\n",
       "    </tr>\n",
       "    <tr>\n",
       "      <th>campaign</th>\n",
       "      <td>21925.0</td>\n",
       "      <td>2.647662</td>\n",
       "      <td>2.884026</td>\n",
       "      <td>1.000</td>\n",
       "      <td>1.000</td>\n",
       "      <td>2.000</td>\n",
       "      <td>3.000</td>\n",
       "      <td>43.000</td>\n",
       "    </tr>\n",
       "    <tr>\n",
       "      <th>pdays</th>\n",
       "      <td>21925.0</td>\n",
       "      <td>985.052315</td>\n",
       "      <td>116.852489</td>\n",
       "      <td>0.000</td>\n",
       "      <td>999.000</td>\n",
       "      <td>999.000</td>\n",
       "      <td>999.000</td>\n",
       "      <td>999.000</td>\n",
       "    </tr>\n",
       "    <tr>\n",
       "      <th>previous</th>\n",
       "      <td>21925.0</td>\n",
       "      <td>0.131904</td>\n",
       "      <td>0.405475</td>\n",
       "      <td>0.000</td>\n",
       "      <td>0.000</td>\n",
       "      <td>0.000</td>\n",
       "      <td>0.000</td>\n",
       "      <td>6.000</td>\n",
       "    </tr>\n",
       "    <tr>\n",
       "      <th>emp.var.rate</th>\n",
       "      <td>21925.0</td>\n",
       "      <td>0.249688</td>\n",
       "      <td>1.484639</td>\n",
       "      <td>-3.400</td>\n",
       "      <td>-1.800</td>\n",
       "      <td>1.100</td>\n",
       "      <td>1.400</td>\n",
       "      <td>1.400</td>\n",
       "    </tr>\n",
       "    <tr>\n",
       "      <th>cons.price.idx</th>\n",
       "      <td>21925.0</td>\n",
       "      <td>93.603631</td>\n",
       "      <td>0.559646</td>\n",
       "      <td>92.201</td>\n",
       "      <td>93.075</td>\n",
       "      <td>93.918</td>\n",
       "      <td>93.994</td>\n",
       "      <td>94.767</td>\n",
       "    </tr>\n",
       "    <tr>\n",
       "      <th>cons.conf.idx</th>\n",
       "      <td>21925.0</td>\n",
       "      <td>-40.602285</td>\n",
       "      <td>4.404200</td>\n",
       "      <td>-50.800</td>\n",
       "      <td>-42.700</td>\n",
       "      <td>-41.800</td>\n",
       "      <td>-36.400</td>\n",
       "      <td>-26.900</td>\n",
       "    </tr>\n",
       "    <tr>\n",
       "      <th>euribor3m</th>\n",
       "      <td>21925.0</td>\n",
       "      <td>3.809478</td>\n",
       "      <td>1.641561</td>\n",
       "      <td>0.634</td>\n",
       "      <td>1.405</td>\n",
       "      <td>4.857</td>\n",
       "      <td>4.962</td>\n",
       "      <td>5.045</td>\n",
       "    </tr>\n",
       "    <tr>\n",
       "      <th>nr.employed</th>\n",
       "      <td>21925.0</td>\n",
       "      <td>5176.165706</td>\n",
       "      <td>64.737576</td>\n",
       "      <td>4963.600</td>\n",
       "      <td>5099.100</td>\n",
       "      <td>5195.800</td>\n",
       "      <td>5228.100</td>\n",
       "      <td>5228.100</td>\n",
       "    </tr>\n",
       "    <tr>\n",
       "      <th>target</th>\n",
       "      <td>21925.0</td>\n",
       "      <td>0.000000</td>\n",
       "      <td>0.000000</td>\n",
       "      <td>0.000</td>\n",
       "      <td>0.000</td>\n",
       "      <td>0.000</td>\n",
       "      <td>0.000</td>\n",
       "      <td>0.000</td>\n",
       "    </tr>\n",
       "  </tbody>\n",
       "</table>\n",
       "</div>"
      ],
      "text/plain": [
       "                  count         mean         std       min       25%  \\\n",
       "age             21925.0    39.929076    9.950976    17.000    32.000   \n",
       "duration        21925.0   221.030513  209.732400     0.000    95.000   \n",
       "campaign        21925.0     2.647662    2.884026     1.000     1.000   \n",
       "pdays           21925.0   985.052315  116.852489     0.000   999.000   \n",
       "previous        21925.0     0.131904    0.405475     0.000     0.000   \n",
       "emp.var.rate    21925.0     0.249688    1.484639    -3.400    -1.800   \n",
       "cons.price.idx  21925.0    93.603631    0.559646    92.201    93.075   \n",
       "cons.conf.idx   21925.0   -40.602285    4.404200   -50.800   -42.700   \n",
       "euribor3m       21925.0     3.809478    1.641561     0.634     1.405   \n",
       "nr.employed     21925.0  5176.165706   64.737576  4963.600  5099.100   \n",
       "target          21925.0     0.000000    0.000000     0.000     0.000   \n",
       "\n",
       "                     50%       75%       max  \n",
       "age               38.000    47.000    95.000  \n",
       "duration         163.000   278.000  4918.000  \n",
       "campaign           2.000     3.000    43.000  \n",
       "pdays            999.000   999.000   999.000  \n",
       "previous           0.000     0.000     6.000  \n",
       "emp.var.rate       1.100     1.400     1.400  \n",
       "cons.price.idx    93.918    93.994    94.767  \n",
       "cons.conf.idx    -41.800   -36.400   -26.900  \n",
       "euribor3m          4.857     4.962     5.045  \n",
       "nr.employed     5195.800  5228.100  5228.100  \n",
       "target             0.000     0.000     0.000  "
      ]
     },
     "execution_count": 18,
     "metadata": {},
     "output_type": "execute_result"
    }
   ],
   "source": [
    "df_train_0.describe().T"
   ]
  },
  {
   "cell_type": "code",
   "execution_count": 19,
   "metadata": {},
   "outputs": [
    {
     "data": {
      "text/html": [
       "<div>\n",
       "<style scoped>\n",
       "    .dataframe tbody tr th:only-of-type {\n",
       "        vertical-align: middle;\n",
       "    }\n",
       "\n",
       "    .dataframe tbody tr th {\n",
       "        vertical-align: top;\n",
       "    }\n",
       "\n",
       "    .dataframe thead th {\n",
       "        text-align: right;\n",
       "    }\n",
       "</style>\n",
       "<table border=\"1\" class=\"dataframe\">\n",
       "  <thead>\n",
       "    <tr style=\"text-align: right;\">\n",
       "      <th></th>\n",
       "      <th>count</th>\n",
       "      <th>mean</th>\n",
       "      <th>std</th>\n",
       "      <th>min</th>\n",
       "      <th>25%</th>\n",
       "      <th>50%</th>\n",
       "      <th>75%</th>\n",
       "      <th>max</th>\n",
       "    </tr>\n",
       "  </thead>\n",
       "  <tbody>\n",
       "    <tr>\n",
       "      <th>age</th>\n",
       "      <td>2787.0</td>\n",
       "      <td>40.825619</td>\n",
       "      <td>13.817538</td>\n",
       "      <td>17.000</td>\n",
       "      <td>31.000</td>\n",
       "      <td>37.000</td>\n",
       "      <td>50.000</td>\n",
       "      <td>98.000</td>\n",
       "    </tr>\n",
       "    <tr>\n",
       "      <th>duration</th>\n",
       "      <td>2787.0</td>\n",
       "      <td>551.896304</td>\n",
       "      <td>404.420029</td>\n",
       "      <td>37.000</td>\n",
       "      <td>255.000</td>\n",
       "      <td>442.000</td>\n",
       "      <td>739.500</td>\n",
       "      <td>4199.000</td>\n",
       "    </tr>\n",
       "    <tr>\n",
       "      <th>campaign</th>\n",
       "      <td>2787.0</td>\n",
       "      <td>2.049157</td>\n",
       "      <td>1.617637</td>\n",
       "      <td>1.000</td>\n",
       "      <td>1.000</td>\n",
       "      <td>2.000</td>\n",
       "      <td>2.000</td>\n",
       "      <td>17.000</td>\n",
       "    </tr>\n",
       "    <tr>\n",
       "      <th>pdays</th>\n",
       "      <td>2787.0</td>\n",
       "      <td>794.471834</td>\n",
       "      <td>401.670224</td>\n",
       "      <td>0.000</td>\n",
       "      <td>999.000</td>\n",
       "      <td>999.000</td>\n",
       "      <td>999.000</td>\n",
       "      <td>999.000</td>\n",
       "    </tr>\n",
       "    <tr>\n",
       "      <th>previous</th>\n",
       "      <td>2787.0</td>\n",
       "      <td>0.486545</td>\n",
       "      <td>0.858688</td>\n",
       "      <td>0.000</td>\n",
       "      <td>0.000</td>\n",
       "      <td>0.000</td>\n",
       "      <td>1.000</td>\n",
       "      <td>6.000</td>\n",
       "    </tr>\n",
       "    <tr>\n",
       "      <th>emp.var.rate</th>\n",
       "      <td>2787.0</td>\n",
       "      <td>-1.230858</td>\n",
       "      <td>1.623668</td>\n",
       "      <td>-3.400</td>\n",
       "      <td>-1.800</td>\n",
       "      <td>-1.800</td>\n",
       "      <td>-0.100</td>\n",
       "      <td>1.400</td>\n",
       "    </tr>\n",
       "    <tr>\n",
       "      <th>cons.price.idx</th>\n",
       "      <td>2787.0</td>\n",
       "      <td>93.362048</td>\n",
       "      <td>0.680157</td>\n",
       "      <td>92.201</td>\n",
       "      <td>92.893</td>\n",
       "      <td>93.200</td>\n",
       "      <td>93.918</td>\n",
       "      <td>94.767</td>\n",
       "    </tr>\n",
       "    <tr>\n",
       "      <th>cons.conf.idx</th>\n",
       "      <td>2787.0</td>\n",
       "      <td>-39.837890</td>\n",
       "      <td>6.143963</td>\n",
       "      <td>-50.800</td>\n",
       "      <td>-46.200</td>\n",
       "      <td>-40.400</td>\n",
       "      <td>-36.100</td>\n",
       "      <td>-26.900</td>\n",
       "    </tr>\n",
       "    <tr>\n",
       "      <th>euribor3m</th>\n",
       "      <td>2787.0</td>\n",
       "      <td>2.124053</td>\n",
       "      <td>1.742855</td>\n",
       "      <td>0.634</td>\n",
       "      <td>0.850</td>\n",
       "      <td>1.266</td>\n",
       "      <td>4.286</td>\n",
       "      <td>5.045</td>\n",
       "    </tr>\n",
       "    <tr>\n",
       "      <th>nr.employed</th>\n",
       "      <td>2787.0</td>\n",
       "      <td>5094.789056</td>\n",
       "      <td>88.231291</td>\n",
       "      <td>4963.600</td>\n",
       "      <td>5017.500</td>\n",
       "      <td>5099.100</td>\n",
       "      <td>5191.000</td>\n",
       "      <td>5228.100</td>\n",
       "    </tr>\n",
       "    <tr>\n",
       "      <th>target</th>\n",
       "      <td>2787.0</td>\n",
       "      <td>1.000000</td>\n",
       "      <td>0.000000</td>\n",
       "      <td>1.000</td>\n",
       "      <td>1.000</td>\n",
       "      <td>1.000</td>\n",
       "      <td>1.000</td>\n",
       "      <td>1.000</td>\n",
       "    </tr>\n",
       "  </tbody>\n",
       "</table>\n",
       "</div>"
      ],
      "text/plain": [
       "                 count         mean         std       min       25%       50%  \\\n",
       "age             2787.0    40.825619   13.817538    17.000    31.000    37.000   \n",
       "duration        2787.0   551.896304  404.420029    37.000   255.000   442.000   \n",
       "campaign        2787.0     2.049157    1.617637     1.000     1.000     2.000   \n",
       "pdays           2787.0   794.471834  401.670224     0.000   999.000   999.000   \n",
       "previous        2787.0     0.486545    0.858688     0.000     0.000     0.000   \n",
       "emp.var.rate    2787.0    -1.230858    1.623668    -3.400    -1.800    -1.800   \n",
       "cons.price.idx  2787.0    93.362048    0.680157    92.201    92.893    93.200   \n",
       "cons.conf.idx   2787.0   -39.837890    6.143963   -50.800   -46.200   -40.400   \n",
       "euribor3m       2787.0     2.124053    1.742855     0.634     0.850     1.266   \n",
       "nr.employed     2787.0  5094.789056   88.231291  4963.600  5017.500  5099.100   \n",
       "target          2787.0     1.000000    0.000000     1.000     1.000     1.000   \n",
       "\n",
       "                     75%       max  \n",
       "age               50.000    98.000  \n",
       "duration         739.500  4199.000  \n",
       "campaign           2.000    17.000  \n",
       "pdays            999.000   999.000  \n",
       "previous           1.000     6.000  \n",
       "emp.var.rate      -0.100     1.400  \n",
       "cons.price.idx    93.918    94.767  \n",
       "cons.conf.idx    -36.100   -26.900  \n",
       "euribor3m          4.286     5.045  \n",
       "nr.employed     5191.000  5228.100  \n",
       "target             1.000     1.000  "
      ]
     },
     "execution_count": 19,
     "metadata": {},
     "output_type": "execute_result"
    }
   ],
   "source": [
    "df_train_1.describe().T"
   ]
  },
  {
   "cell_type": "code",
   "execution_count": null,
   "metadata": {},
   "outputs": [],
   "source": [
    "# Выводы:\n",
    "# 1.Признак '_id' не нужен => удалим\n",
    "\n",
    "# 2.Проблем с неправильным разделителем целой и дробной частей в числовых признаках - нет\n",
    "\n",
    "# 3.Пропусков нет\n",
    "\n",
    "# 4.Незначимые признаки (не влияющие \"заметно\" на целевое значение, на обучающих данных):\n",
    "# 'age', campaign', 'pdays', 'cons.price.idx', 'cons.conf.idx', 'euribor3m', 'nr.employed'\n",
    "# Эти признаки удалим из обучения..\n",
    "\n",
    "# 5. Значимые признаки: 'duration', 'previous', 'emp.var.rate\n",
    "# У признака 'duration' среднее значение: 221 и 55,- для target: 0 и 1, соответственно \n",
    "# (в диапазоне [0..4918])\n",
    "# У признака 'previous' среднее значение: 0.13 и 0.48,- для target: 0 и 1, соответственно \n",
    "# (в диапазоне [0..6])\n",
    "# У признака 'emp.var.rate' среднее значение: 0.24 и -1.23,- для target: 0 и 1, соответственно \n",
    "# (в диапазоне [-3.4..1.4])\n",
    "# Эти признаки нормализуем по алгоритму: x -> (x - min)/(max - min) (дисперсия, вроде не важна)\n",
    "# \"Важность\" (более сильное влияние), веса из этих признаков не ищем: нормализации достаточно, \n",
    "# а дальше дело за моделями.."
   ]
  },
  {
   "cell_type": "code",
   "execution_count": null,
   "metadata": {},
   "outputs": [],
   "source": [
    "#-------------------------------------------------------------------------------------------"
   ]
  },
  {
   "cell_type": "code",
   "execution_count": null,
   "metadata": {},
   "outputs": [],
   "source": [
    "# Сравним частоту значений КАТЕГОРИАЛЬНЫХ показателей: отдельно для TARGET=0 и для TARGET=1.\n",
    "# Если частоты значений какого-то признака очень близки,- то влияние признака не выявлено\n",
    "# Комбинирование признаков пока не смотрим..."
   ]
  },
  {
   "cell_type": "code",
   "execution_count": 20,
   "metadata": {},
   "outputs": [],
   "source": [
    "def str_values(str_columns):\n",
    "    for col in str_columns:\n",
    "        dd0 = pd.DataFrame(df_train_0[col].value_counts())\n",
    "        all0 = df_train_0.shape[0]\n",
    "        dd1 = pd.DataFrame(df_train_1[col].value_counts())\n",
    "        all1 = df_train_1.shape[0]\n",
    "        print('\\n' + col + '(0-отказы)\\t\\t\\t\\t\\t' + col + '(1-согласия)')\n",
    "        print('-----------------------------\\t\\t\\t-----------------------------')\n",
    "        print('Всего: ', all0, '\\t\\t\\t\\t\\tВсего: ', all1)\n",
    "        for name in dd0.index:\n",
    "            print (name, '-', dd0.loc[name, col], '(', dd0.loc[name, col]*100/all0, '%)\\t', \\\n",
    "                   name, '-', dd1.loc[name, col], '(', dd1.loc[name, col]*100/all1, '%)')\n",
    "        print('================================================================================')  \n",
    "    return"
   ]
  },
  {
   "cell_type": "code",
   "execution_count": 21,
   "metadata": {},
   "outputs": [
    {
     "name": "stdout",
     "output_type": "stream",
     "text": [
      "\n",
      "job(0-отказы)\t\t\t\t\tjob(1-согласия)\n",
      "-----------------------------\t\t\t-----------------------------\n",
      "Всего:  21925 \t\t\t\t\tВсего:  2787\n",
      "admin. - 5429 ( 24.76168757126568 %)\t admin. - 825 ( 29.60172228202368 %)\n",
      "blue-collar - 5217 ( 23.794754846066134 %)\t blue-collar - 404 ( 14.495873699318263 %)\n",
      "technician - 3558 ( 16.22805017103763 %)\t technician - 429 ( 15.392895586652314 %)\n",
      "services - 2202 ( 10.043329532497149 %)\t services - 189 ( 6.7814854682454255 %)\n",
      "management - 1555 ( 7.09236031927024 %)\t management - 203 ( 7.283817725152494 %)\n",
      "entrepreneur - 780 ( 3.5575826681870013 %)\t entrepreneur - 73 ( 2.619303911015429 %)\n",
      "self-employed - 763 ( 3.4800456100342076 %)\t self-employed - 87 ( 3.1216361679224973 %)\n",
      "retired - 761 ( 3.4709236031927024 %)\t retired - 240 ( 8.611410118406889 %)\n",
      "housemaid - 588 ( 2.6818700114025087 %)\t housemaid - 64 ( 2.2963760315751705 %)\n",
      "unemployed - 508 ( 2.316989737742303 %)\t unemployed - 86 ( 3.0857552924291354 %)\n",
      "student - 387 ( 1.7651083238312428 %)\t student - 167 ( 5.99210620739146 %)\n",
      "unknown - 177 ( 0.8072976054732041 %)\t unknown - 20 ( 0.7176175098672407 %)\n",
      "================================================================================\n",
      "\n",
      "marital(0-отказы)\t\t\t\t\tmarital(1-согласия)\n",
      "-----------------------------\t\t\t-----------------------------\n",
      "Всего:  21925 \t\t\t\t\tВсего:  2787\n",
      "married - 13364 ( 60.953249714937286 %)\t married - 1507 ( 54.072479368496595 %)\n",
      "single - 6058 ( 27.63055872291904 %)\t single - 983 ( 35.27090060997488 %)\n",
      "divorced - 2464 ( 11.238312428734321 %)\t divorced - 291 ( 10.441334768568353 %)\n",
      "unknown - 39 ( 0.17787913340935005 %)\t unknown - 6 ( 0.21528525296017223 %)\n",
      "================================================================================\n",
      "\n",
      "education(0-отказы)\t\t\t\t\teducation(1-согласия)\n",
      "-----------------------------\t\t\t-----------------------------\n",
      "Всего:  21925 \t\t\t\t\tВсего:  2787\n",
      "university.degree - 6272 ( 28.60661345496009 %)\t university.degree - 1037 ( 37.20846788661643 %)\n",
      "high.school - 5130 ( 23.39794754846066 %)\t high.school - 607 ( 21.77969142447076 %)\n",
      "basic.9y - 3283 ( 14.973774230330672 %)\t basic.9y - 282 ( 10.118406889128094 %)\n",
      "professional.course - 2769 ( 12.629418472063854 %)\t professional.course - 343 ( 12.30714029422318 %)\n",
      "basic.4y - 2259 ( 10.303306727480045 %)\t basic.4y - 264 ( 9.472551130247577 %)\n",
      "basic.6y - 1287 ( 5.870011402508552 %)\t basic.6y - 112 ( 4.018658055256548 %)\n",
      "unknown - 918 ( 4.187001140250855 %)\t unknown - 142 ( 5.095084320057409 %)\n"
     ]
    },
    {
     "ename": "KeyError",
     "evalue": "'the label [illiterate] is not in the [index]'",
     "output_type": "error",
     "traceback": [
      "\u001b[1;31m---------------------------------------------------------------------------\u001b[0m",
      "\u001b[1;31mKeyError\u001b[0m                                  Traceback (most recent call last)",
      "\u001b[1;32mC:\\Anaconda3\\lib\\site-packages\\pandas\\core\\indexing.py\u001b[0m in \u001b[0;36m_has_valid_type\u001b[1;34m(self, key, axis)\u001b[0m\n\u001b[0;32m   1505\u001b[0m                 \u001b[1;32mif\u001b[0m \u001b[1;32mnot\u001b[0m \u001b[0max\u001b[0m\u001b[1;33m.\u001b[0m\u001b[0mcontains\u001b[0m\u001b[1;33m(\u001b[0m\u001b[0mkey\u001b[0m\u001b[1;33m)\u001b[0m\u001b[1;33m:\u001b[0m\u001b[1;33m\u001b[0m\u001b[0m\n\u001b[1;32m-> 1506\u001b[1;33m                     \u001b[0merror\u001b[0m\u001b[1;33m(\u001b[0m\u001b[1;33m)\u001b[0m\u001b[1;33m\u001b[0m\u001b[0m\n\u001b[0m\u001b[0;32m   1507\u001b[0m             \u001b[1;32mexcept\u001b[0m \u001b[0mTypeError\u001b[0m \u001b[1;32mas\u001b[0m \u001b[0me\u001b[0m\u001b[1;33m:\u001b[0m\u001b[1;33m\u001b[0m\u001b[0m\n",
      "\u001b[1;32mC:\\Anaconda3\\lib\\site-packages\\pandas\\core\\indexing.py\u001b[0m in \u001b[0;36merror\u001b[1;34m()\u001b[0m\n\u001b[0;32m   1500\u001b[0m                                .format(key=key,\n\u001b[1;32m-> 1501\u001b[1;33m                                        axis=self.obj._get_axis_name(axis)))\n\u001b[0m\u001b[0;32m   1502\u001b[0m \u001b[1;33m\u001b[0m\u001b[0m\n",
      "\u001b[1;31mKeyError\u001b[0m: 'the label [illiterate] is not in the [index]'",
      "\nDuring handling of the above exception, another exception occurred:\n",
      "\u001b[1;31mKeyError\u001b[0m                                  Traceback (most recent call last)",
      "\u001b[1;32m<ipython-input-21-3142f1a5baff>\u001b[0m in \u001b[0;36m<module>\u001b[1;34m()\u001b[0m\n\u001b[0;32m      1\u001b[0m \u001b[0mstr_columns\u001b[0m \u001b[1;33m=\u001b[0m \u001b[1;33m[\u001b[0m\u001b[1;34m'job'\u001b[0m\u001b[1;33m,\u001b[0m \u001b[1;34m'marital'\u001b[0m\u001b[1;33m,\u001b[0m \u001b[1;34m'education'\u001b[0m\u001b[1;33m]\u001b[0m\u001b[1;33m\u001b[0m\u001b[0m\n\u001b[1;32m----> 2\u001b[1;33m \u001b[0mstr_values\u001b[0m\u001b[1;33m(\u001b[0m\u001b[0mstr_columns\u001b[0m\u001b[1;33m)\u001b[0m\u001b[1;33m\u001b[0m\u001b[0m\n\u001b[0m",
      "\u001b[1;32m<ipython-input-20-65dace13a559>\u001b[0m in \u001b[0;36mstr_values\u001b[1;34m(str_columns)\u001b[0m\n\u001b[0;32m      9\u001b[0m         \u001b[0mprint\u001b[0m\u001b[1;33m(\u001b[0m\u001b[1;34m'Всего: '\u001b[0m\u001b[1;33m,\u001b[0m \u001b[0mall0\u001b[0m\u001b[1;33m,\u001b[0m \u001b[1;34m'\\t\\t\\t\\t\\tВсего: '\u001b[0m\u001b[1;33m,\u001b[0m \u001b[0mall1\u001b[0m\u001b[1;33m)\u001b[0m\u001b[1;33m\u001b[0m\u001b[0m\n\u001b[0;32m     10\u001b[0m         \u001b[1;32mfor\u001b[0m \u001b[0mname\u001b[0m \u001b[1;32min\u001b[0m \u001b[0mdd0\u001b[0m\u001b[1;33m.\u001b[0m\u001b[0mindex\u001b[0m\u001b[1;33m:\u001b[0m\u001b[1;33m\u001b[0m\u001b[0m\n\u001b[1;32m---> 11\u001b[1;33m             \u001b[0mprint\u001b[0m \u001b[1;33m(\u001b[0m\u001b[0mname\u001b[0m\u001b[1;33m,\u001b[0m \u001b[1;34m'-'\u001b[0m\u001b[1;33m,\u001b[0m \u001b[0mdd0\u001b[0m\u001b[1;33m.\u001b[0m\u001b[0mloc\u001b[0m\u001b[1;33m[\u001b[0m\u001b[0mname\u001b[0m\u001b[1;33m,\u001b[0m \u001b[0mcol\u001b[0m\u001b[1;33m]\u001b[0m\u001b[1;33m,\u001b[0m \u001b[1;34m'('\u001b[0m\u001b[1;33m,\u001b[0m \u001b[0mdd0\u001b[0m\u001b[1;33m.\u001b[0m\u001b[0mloc\u001b[0m\u001b[1;33m[\u001b[0m\u001b[0mname\u001b[0m\u001b[1;33m,\u001b[0m \u001b[0mcol\u001b[0m\u001b[1;33m]\u001b[0m\u001b[1;33m*\u001b[0m\u001b[1;36m100\u001b[0m\u001b[1;33m/\u001b[0m\u001b[0mall0\u001b[0m\u001b[1;33m,\u001b[0m \u001b[1;34m'%)\\t'\u001b[0m\u001b[1;33m,\u001b[0m                    \u001b[0mname\u001b[0m\u001b[1;33m,\u001b[0m \u001b[1;34m'-'\u001b[0m\u001b[1;33m,\u001b[0m \u001b[0mdd1\u001b[0m\u001b[1;33m.\u001b[0m\u001b[0mloc\u001b[0m\u001b[1;33m[\u001b[0m\u001b[0mname\u001b[0m\u001b[1;33m,\u001b[0m \u001b[0mcol\u001b[0m\u001b[1;33m]\u001b[0m\u001b[1;33m,\u001b[0m \u001b[1;34m'('\u001b[0m\u001b[1;33m,\u001b[0m \u001b[0mdd1\u001b[0m\u001b[1;33m.\u001b[0m\u001b[0mloc\u001b[0m\u001b[1;33m[\u001b[0m\u001b[0mname\u001b[0m\u001b[1;33m,\u001b[0m \u001b[0mcol\u001b[0m\u001b[1;33m]\u001b[0m\u001b[1;33m*\u001b[0m\u001b[1;36m100\u001b[0m\u001b[1;33m/\u001b[0m\u001b[0mall1\u001b[0m\u001b[1;33m,\u001b[0m \u001b[1;34m'%)'\u001b[0m\u001b[1;33m)\u001b[0m\u001b[1;33m\u001b[0m\u001b[0m\n\u001b[0m\u001b[0;32m     12\u001b[0m         \u001b[0mprint\u001b[0m\u001b[1;33m(\u001b[0m\u001b[1;34m'================================================================================'\u001b[0m\u001b[1;33m)\u001b[0m\u001b[1;33m\u001b[0m\u001b[0m\n\u001b[0;32m     13\u001b[0m     \u001b[1;32mreturn\u001b[0m\u001b[1;33m\u001b[0m\u001b[0m\n",
      "\u001b[1;32mC:\\Anaconda3\\lib\\site-packages\\pandas\\core\\indexing.py\u001b[0m in \u001b[0;36m__getitem__\u001b[1;34m(self, key)\u001b[0m\n\u001b[0;32m   1365\u001b[0m             \u001b[1;32mexcept\u001b[0m \u001b[1;33m(\u001b[0m\u001b[0mKeyError\u001b[0m\u001b[1;33m,\u001b[0m \u001b[0mIndexError\u001b[0m\u001b[1;33m)\u001b[0m\u001b[1;33m:\u001b[0m\u001b[1;33m\u001b[0m\u001b[0m\n\u001b[0;32m   1366\u001b[0m                 \u001b[1;32mpass\u001b[0m\u001b[1;33m\u001b[0m\u001b[0m\n\u001b[1;32m-> 1367\u001b[1;33m             \u001b[1;32mreturn\u001b[0m \u001b[0mself\u001b[0m\u001b[1;33m.\u001b[0m\u001b[0m_getitem_tuple\u001b[0m\u001b[1;33m(\u001b[0m\u001b[0mkey\u001b[0m\u001b[1;33m)\u001b[0m\u001b[1;33m\u001b[0m\u001b[0m\n\u001b[0m\u001b[0;32m   1368\u001b[0m         \u001b[1;32melse\u001b[0m\u001b[1;33m:\u001b[0m\u001b[1;33m\u001b[0m\u001b[0m\n\u001b[0;32m   1369\u001b[0m             \u001b[1;31m# we by definition only have the 0th axis\u001b[0m\u001b[1;33m\u001b[0m\u001b[1;33m\u001b[0m\u001b[0m\n",
      "\u001b[1;32mC:\\Anaconda3\\lib\\site-packages\\pandas\\core\\indexing.py\u001b[0m in \u001b[0;36m_getitem_tuple\u001b[1;34m(self, tup)\u001b[0m\n\u001b[0;32m    856\u001b[0m     \u001b[1;32mdef\u001b[0m \u001b[0m_getitem_tuple\u001b[0m\u001b[1;33m(\u001b[0m\u001b[0mself\u001b[0m\u001b[1;33m,\u001b[0m \u001b[0mtup\u001b[0m\u001b[1;33m)\u001b[0m\u001b[1;33m:\u001b[0m\u001b[1;33m\u001b[0m\u001b[0m\n\u001b[0;32m    857\u001b[0m         \u001b[1;32mtry\u001b[0m\u001b[1;33m:\u001b[0m\u001b[1;33m\u001b[0m\u001b[0m\n\u001b[1;32m--> 858\u001b[1;33m             \u001b[1;32mreturn\u001b[0m \u001b[0mself\u001b[0m\u001b[1;33m.\u001b[0m\u001b[0m_getitem_lowerdim\u001b[0m\u001b[1;33m(\u001b[0m\u001b[0mtup\u001b[0m\u001b[1;33m)\u001b[0m\u001b[1;33m\u001b[0m\u001b[0m\n\u001b[0m\u001b[0;32m    859\u001b[0m         \u001b[1;32mexcept\u001b[0m \u001b[0mIndexingError\u001b[0m\u001b[1;33m:\u001b[0m\u001b[1;33m\u001b[0m\u001b[0m\n\u001b[0;32m    860\u001b[0m             \u001b[1;32mpass\u001b[0m\u001b[1;33m\u001b[0m\u001b[0m\n",
      "\u001b[1;32mC:\\Anaconda3\\lib\\site-packages\\pandas\\core\\indexing.py\u001b[0m in \u001b[0;36m_getitem_lowerdim\u001b[1;34m(self, tup)\u001b[0m\n\u001b[0;32m    989\u001b[0m         \u001b[1;32mfor\u001b[0m \u001b[0mi\u001b[0m\u001b[1;33m,\u001b[0m \u001b[0mkey\u001b[0m \u001b[1;32min\u001b[0m \u001b[0menumerate\u001b[0m\u001b[1;33m(\u001b[0m\u001b[0mtup\u001b[0m\u001b[1;33m)\u001b[0m\u001b[1;33m:\u001b[0m\u001b[1;33m\u001b[0m\u001b[0m\n\u001b[0;32m    990\u001b[0m             \u001b[1;32mif\u001b[0m \u001b[0mis_label_like\u001b[0m\u001b[1;33m(\u001b[0m\u001b[0mkey\u001b[0m\u001b[1;33m)\u001b[0m \u001b[1;32mor\u001b[0m \u001b[0misinstance\u001b[0m\u001b[1;33m(\u001b[0m\u001b[0mkey\u001b[0m\u001b[1;33m,\u001b[0m \u001b[0mtuple\u001b[0m\u001b[1;33m)\u001b[0m\u001b[1;33m:\u001b[0m\u001b[1;33m\u001b[0m\u001b[0m\n\u001b[1;32m--> 991\u001b[1;33m                 \u001b[0msection\u001b[0m \u001b[1;33m=\u001b[0m \u001b[0mself\u001b[0m\u001b[1;33m.\u001b[0m\u001b[0m_getitem_axis\u001b[0m\u001b[1;33m(\u001b[0m\u001b[0mkey\u001b[0m\u001b[1;33m,\u001b[0m \u001b[0maxis\u001b[0m\u001b[1;33m=\u001b[0m\u001b[0mi\u001b[0m\u001b[1;33m)\u001b[0m\u001b[1;33m\u001b[0m\u001b[0m\n\u001b[0m\u001b[0;32m    992\u001b[0m \u001b[1;33m\u001b[0m\u001b[0m\n\u001b[0;32m    993\u001b[0m                 \u001b[1;31m# we have yielded a scalar ?\u001b[0m\u001b[1;33m\u001b[0m\u001b[1;33m\u001b[0m\u001b[0m\n",
      "\u001b[1;32mC:\\Anaconda3\\lib\\site-packages\\pandas\\core\\indexing.py\u001b[0m in \u001b[0;36m_getitem_axis\u001b[1;34m(self, key, axis)\u001b[0m\n\u001b[0;32m   1624\u001b[0m \u001b[1;33m\u001b[0m\u001b[0m\n\u001b[0;32m   1625\u001b[0m         \u001b[1;31m# fall thru to straight lookup\u001b[0m\u001b[1;33m\u001b[0m\u001b[1;33m\u001b[0m\u001b[0m\n\u001b[1;32m-> 1626\u001b[1;33m         \u001b[0mself\u001b[0m\u001b[1;33m.\u001b[0m\u001b[0m_has_valid_type\u001b[0m\u001b[1;33m(\u001b[0m\u001b[0mkey\u001b[0m\u001b[1;33m,\u001b[0m \u001b[0maxis\u001b[0m\u001b[1;33m)\u001b[0m\u001b[1;33m\u001b[0m\u001b[0m\n\u001b[0m\u001b[0;32m   1627\u001b[0m         \u001b[1;32mreturn\u001b[0m \u001b[0mself\u001b[0m\u001b[1;33m.\u001b[0m\u001b[0m_get_label\u001b[0m\u001b[1;33m(\u001b[0m\u001b[0mkey\u001b[0m\u001b[1;33m,\u001b[0m \u001b[0maxis\u001b[0m\u001b[1;33m=\u001b[0m\u001b[0maxis\u001b[0m\u001b[1;33m)\u001b[0m\u001b[1;33m\u001b[0m\u001b[0m\n\u001b[0;32m   1628\u001b[0m \u001b[1;33m\u001b[0m\u001b[0m\n",
      "\u001b[1;32mC:\\Anaconda3\\lib\\site-packages\\pandas\\core\\indexing.py\u001b[0m in \u001b[0;36m_has_valid_type\u001b[1;34m(self, key, axis)\u001b[0m\n\u001b[0;32m   1512\u001b[0m                 \u001b[1;32mraise\u001b[0m\u001b[1;33m\u001b[0m\u001b[0m\n\u001b[0;32m   1513\u001b[0m             \u001b[1;32mexcept\u001b[0m\u001b[1;33m:\u001b[0m\u001b[1;33m\u001b[0m\u001b[0m\n\u001b[1;32m-> 1514\u001b[1;33m                 \u001b[0merror\u001b[0m\u001b[1;33m(\u001b[0m\u001b[1;33m)\u001b[0m\u001b[1;33m\u001b[0m\u001b[0m\n\u001b[0m\u001b[0;32m   1515\u001b[0m \u001b[1;33m\u001b[0m\u001b[0m\n\u001b[0;32m   1516\u001b[0m         \u001b[1;32mreturn\u001b[0m \u001b[1;32mTrue\u001b[0m\u001b[1;33m\u001b[0m\u001b[0m\n",
      "\u001b[1;32mC:\\Anaconda3\\lib\\site-packages\\pandas\\core\\indexing.py\u001b[0m in \u001b[0;36merror\u001b[1;34m()\u001b[0m\n\u001b[0;32m   1499\u001b[0m                 raise KeyError(u\"the label [{key}] is not in the [{axis}]\"\n\u001b[0;32m   1500\u001b[0m                                .format(key=key,\n\u001b[1;32m-> 1501\u001b[1;33m                                        axis=self.obj._get_axis_name(axis)))\n\u001b[0m\u001b[0;32m   1502\u001b[0m \u001b[1;33m\u001b[0m\u001b[0m\n\u001b[0;32m   1503\u001b[0m             \u001b[1;32mtry\u001b[0m\u001b[1;33m:\u001b[0m\u001b[1;33m\u001b[0m\u001b[0m\n",
      "\u001b[1;31mKeyError\u001b[0m: 'the label [illiterate] is not in the [index]'"
     ]
    }
   ],
   "source": [
    "str_columns = ['job', 'marital', 'education']\n",
    "str_values(str_columns)"
   ]
  },
  {
   "cell_type": "code",
   "execution_count": 22,
   "metadata": {},
   "outputs": [
    {
     "name": "stdout",
     "output_type": "stream",
     "text": [
      "\n",
      "default(0-отказы)\t\t\t\t\tdefault(1-согласия)\n",
      "-----------------------------\t\t\t-----------------------------\n",
      "Всего:  21925 \t\t\t\t\tВсего:  2787\n",
      "no - 17041 ( 77.72405929304448 %)\t no - 2526 ( 90.6350914962325 %)\n",
      "unknown - 4883 ( 22.271379703534777 %)\t unknown - 261 ( 9.364908503767492 %)\n"
     ]
    },
    {
     "ename": "KeyError",
     "evalue": "'the label [yes] is not in the [index]'",
     "output_type": "error",
     "traceback": [
      "\u001b[1;31m---------------------------------------------------------------------------\u001b[0m",
      "\u001b[1;31mKeyError\u001b[0m                                  Traceback (most recent call last)",
      "\u001b[1;32mC:\\Anaconda3\\lib\\site-packages\\pandas\\core\\indexing.py\u001b[0m in \u001b[0;36m_has_valid_type\u001b[1;34m(self, key, axis)\u001b[0m\n\u001b[0;32m   1505\u001b[0m                 \u001b[1;32mif\u001b[0m \u001b[1;32mnot\u001b[0m \u001b[0max\u001b[0m\u001b[1;33m.\u001b[0m\u001b[0mcontains\u001b[0m\u001b[1;33m(\u001b[0m\u001b[0mkey\u001b[0m\u001b[1;33m)\u001b[0m\u001b[1;33m:\u001b[0m\u001b[1;33m\u001b[0m\u001b[0m\n\u001b[1;32m-> 1506\u001b[1;33m                     \u001b[0merror\u001b[0m\u001b[1;33m(\u001b[0m\u001b[1;33m)\u001b[0m\u001b[1;33m\u001b[0m\u001b[0m\n\u001b[0m\u001b[0;32m   1507\u001b[0m             \u001b[1;32mexcept\u001b[0m \u001b[0mTypeError\u001b[0m \u001b[1;32mas\u001b[0m \u001b[0me\u001b[0m\u001b[1;33m:\u001b[0m\u001b[1;33m\u001b[0m\u001b[0m\n",
      "\u001b[1;32mC:\\Anaconda3\\lib\\site-packages\\pandas\\core\\indexing.py\u001b[0m in \u001b[0;36merror\u001b[1;34m()\u001b[0m\n\u001b[0;32m   1500\u001b[0m                                .format(key=key,\n\u001b[1;32m-> 1501\u001b[1;33m                                        axis=self.obj._get_axis_name(axis)))\n\u001b[0m\u001b[0;32m   1502\u001b[0m \u001b[1;33m\u001b[0m\u001b[0m\n",
      "\u001b[1;31mKeyError\u001b[0m: 'the label [yes] is not in the [index]'",
      "\nDuring handling of the above exception, another exception occurred:\n",
      "\u001b[1;31mKeyError\u001b[0m                                  Traceback (most recent call last)",
      "\u001b[1;32m<ipython-input-22-77219b8e7845>\u001b[0m in \u001b[0;36m<module>\u001b[1;34m()\u001b[0m\n\u001b[0;32m      1\u001b[0m \u001b[0mstr_columns\u001b[0m \u001b[1;33m=\u001b[0m \u001b[1;33m[\u001b[0m\u001b[1;34m'default'\u001b[0m\u001b[1;33m]\u001b[0m\u001b[1;33m\u001b[0m\u001b[0m\n\u001b[1;32m----> 2\u001b[1;33m \u001b[0mstr_values\u001b[0m\u001b[1;33m(\u001b[0m\u001b[0mstr_columns\u001b[0m\u001b[1;33m)\u001b[0m\u001b[1;33m\u001b[0m\u001b[0m\n\u001b[0m",
      "\u001b[1;32m<ipython-input-20-65dace13a559>\u001b[0m in \u001b[0;36mstr_values\u001b[1;34m(str_columns)\u001b[0m\n\u001b[0;32m      9\u001b[0m         \u001b[0mprint\u001b[0m\u001b[1;33m(\u001b[0m\u001b[1;34m'Всего: '\u001b[0m\u001b[1;33m,\u001b[0m \u001b[0mall0\u001b[0m\u001b[1;33m,\u001b[0m \u001b[1;34m'\\t\\t\\t\\t\\tВсего: '\u001b[0m\u001b[1;33m,\u001b[0m \u001b[0mall1\u001b[0m\u001b[1;33m)\u001b[0m\u001b[1;33m\u001b[0m\u001b[0m\n\u001b[0;32m     10\u001b[0m         \u001b[1;32mfor\u001b[0m \u001b[0mname\u001b[0m \u001b[1;32min\u001b[0m \u001b[0mdd0\u001b[0m\u001b[1;33m.\u001b[0m\u001b[0mindex\u001b[0m\u001b[1;33m:\u001b[0m\u001b[1;33m\u001b[0m\u001b[0m\n\u001b[1;32m---> 11\u001b[1;33m             \u001b[0mprint\u001b[0m \u001b[1;33m(\u001b[0m\u001b[0mname\u001b[0m\u001b[1;33m,\u001b[0m \u001b[1;34m'-'\u001b[0m\u001b[1;33m,\u001b[0m \u001b[0mdd0\u001b[0m\u001b[1;33m.\u001b[0m\u001b[0mloc\u001b[0m\u001b[1;33m[\u001b[0m\u001b[0mname\u001b[0m\u001b[1;33m,\u001b[0m \u001b[0mcol\u001b[0m\u001b[1;33m]\u001b[0m\u001b[1;33m,\u001b[0m \u001b[1;34m'('\u001b[0m\u001b[1;33m,\u001b[0m \u001b[0mdd0\u001b[0m\u001b[1;33m.\u001b[0m\u001b[0mloc\u001b[0m\u001b[1;33m[\u001b[0m\u001b[0mname\u001b[0m\u001b[1;33m,\u001b[0m \u001b[0mcol\u001b[0m\u001b[1;33m]\u001b[0m\u001b[1;33m*\u001b[0m\u001b[1;36m100\u001b[0m\u001b[1;33m/\u001b[0m\u001b[0mall0\u001b[0m\u001b[1;33m,\u001b[0m \u001b[1;34m'%)\\t'\u001b[0m\u001b[1;33m,\u001b[0m                    \u001b[0mname\u001b[0m\u001b[1;33m,\u001b[0m \u001b[1;34m'-'\u001b[0m\u001b[1;33m,\u001b[0m \u001b[0mdd1\u001b[0m\u001b[1;33m.\u001b[0m\u001b[0mloc\u001b[0m\u001b[1;33m[\u001b[0m\u001b[0mname\u001b[0m\u001b[1;33m,\u001b[0m \u001b[0mcol\u001b[0m\u001b[1;33m]\u001b[0m\u001b[1;33m,\u001b[0m \u001b[1;34m'('\u001b[0m\u001b[1;33m,\u001b[0m \u001b[0mdd1\u001b[0m\u001b[1;33m.\u001b[0m\u001b[0mloc\u001b[0m\u001b[1;33m[\u001b[0m\u001b[0mname\u001b[0m\u001b[1;33m,\u001b[0m \u001b[0mcol\u001b[0m\u001b[1;33m]\u001b[0m\u001b[1;33m*\u001b[0m\u001b[1;36m100\u001b[0m\u001b[1;33m/\u001b[0m\u001b[0mall1\u001b[0m\u001b[1;33m,\u001b[0m \u001b[1;34m'%)'\u001b[0m\u001b[1;33m)\u001b[0m\u001b[1;33m\u001b[0m\u001b[0m\n\u001b[0m\u001b[0;32m     12\u001b[0m         \u001b[0mprint\u001b[0m\u001b[1;33m(\u001b[0m\u001b[1;34m'================================================================================'\u001b[0m\u001b[1;33m)\u001b[0m\u001b[1;33m\u001b[0m\u001b[0m\n\u001b[0;32m     13\u001b[0m     \u001b[1;32mreturn\u001b[0m\u001b[1;33m\u001b[0m\u001b[0m\n",
      "\u001b[1;32mC:\\Anaconda3\\lib\\site-packages\\pandas\\core\\indexing.py\u001b[0m in \u001b[0;36m__getitem__\u001b[1;34m(self, key)\u001b[0m\n\u001b[0;32m   1365\u001b[0m             \u001b[1;32mexcept\u001b[0m \u001b[1;33m(\u001b[0m\u001b[0mKeyError\u001b[0m\u001b[1;33m,\u001b[0m \u001b[0mIndexError\u001b[0m\u001b[1;33m)\u001b[0m\u001b[1;33m:\u001b[0m\u001b[1;33m\u001b[0m\u001b[0m\n\u001b[0;32m   1366\u001b[0m                 \u001b[1;32mpass\u001b[0m\u001b[1;33m\u001b[0m\u001b[0m\n\u001b[1;32m-> 1367\u001b[1;33m             \u001b[1;32mreturn\u001b[0m \u001b[0mself\u001b[0m\u001b[1;33m.\u001b[0m\u001b[0m_getitem_tuple\u001b[0m\u001b[1;33m(\u001b[0m\u001b[0mkey\u001b[0m\u001b[1;33m)\u001b[0m\u001b[1;33m\u001b[0m\u001b[0m\n\u001b[0m\u001b[0;32m   1368\u001b[0m         \u001b[1;32melse\u001b[0m\u001b[1;33m:\u001b[0m\u001b[1;33m\u001b[0m\u001b[0m\n\u001b[0;32m   1369\u001b[0m             \u001b[1;31m# we by definition only have the 0th axis\u001b[0m\u001b[1;33m\u001b[0m\u001b[1;33m\u001b[0m\u001b[0m\n",
      "\u001b[1;32mC:\\Anaconda3\\lib\\site-packages\\pandas\\core\\indexing.py\u001b[0m in \u001b[0;36m_getitem_tuple\u001b[1;34m(self, tup)\u001b[0m\n\u001b[0;32m    856\u001b[0m     \u001b[1;32mdef\u001b[0m \u001b[0m_getitem_tuple\u001b[0m\u001b[1;33m(\u001b[0m\u001b[0mself\u001b[0m\u001b[1;33m,\u001b[0m \u001b[0mtup\u001b[0m\u001b[1;33m)\u001b[0m\u001b[1;33m:\u001b[0m\u001b[1;33m\u001b[0m\u001b[0m\n\u001b[0;32m    857\u001b[0m         \u001b[1;32mtry\u001b[0m\u001b[1;33m:\u001b[0m\u001b[1;33m\u001b[0m\u001b[0m\n\u001b[1;32m--> 858\u001b[1;33m             \u001b[1;32mreturn\u001b[0m \u001b[0mself\u001b[0m\u001b[1;33m.\u001b[0m\u001b[0m_getitem_lowerdim\u001b[0m\u001b[1;33m(\u001b[0m\u001b[0mtup\u001b[0m\u001b[1;33m)\u001b[0m\u001b[1;33m\u001b[0m\u001b[0m\n\u001b[0m\u001b[0;32m    859\u001b[0m         \u001b[1;32mexcept\u001b[0m \u001b[0mIndexingError\u001b[0m\u001b[1;33m:\u001b[0m\u001b[1;33m\u001b[0m\u001b[0m\n\u001b[0;32m    860\u001b[0m             \u001b[1;32mpass\u001b[0m\u001b[1;33m\u001b[0m\u001b[0m\n",
      "\u001b[1;32mC:\\Anaconda3\\lib\\site-packages\\pandas\\core\\indexing.py\u001b[0m in \u001b[0;36m_getitem_lowerdim\u001b[1;34m(self, tup)\u001b[0m\n\u001b[0;32m    989\u001b[0m         \u001b[1;32mfor\u001b[0m \u001b[0mi\u001b[0m\u001b[1;33m,\u001b[0m \u001b[0mkey\u001b[0m \u001b[1;32min\u001b[0m \u001b[0menumerate\u001b[0m\u001b[1;33m(\u001b[0m\u001b[0mtup\u001b[0m\u001b[1;33m)\u001b[0m\u001b[1;33m:\u001b[0m\u001b[1;33m\u001b[0m\u001b[0m\n\u001b[0;32m    990\u001b[0m             \u001b[1;32mif\u001b[0m \u001b[0mis_label_like\u001b[0m\u001b[1;33m(\u001b[0m\u001b[0mkey\u001b[0m\u001b[1;33m)\u001b[0m \u001b[1;32mor\u001b[0m \u001b[0misinstance\u001b[0m\u001b[1;33m(\u001b[0m\u001b[0mkey\u001b[0m\u001b[1;33m,\u001b[0m \u001b[0mtuple\u001b[0m\u001b[1;33m)\u001b[0m\u001b[1;33m:\u001b[0m\u001b[1;33m\u001b[0m\u001b[0m\n\u001b[1;32m--> 991\u001b[1;33m                 \u001b[0msection\u001b[0m \u001b[1;33m=\u001b[0m \u001b[0mself\u001b[0m\u001b[1;33m.\u001b[0m\u001b[0m_getitem_axis\u001b[0m\u001b[1;33m(\u001b[0m\u001b[0mkey\u001b[0m\u001b[1;33m,\u001b[0m \u001b[0maxis\u001b[0m\u001b[1;33m=\u001b[0m\u001b[0mi\u001b[0m\u001b[1;33m)\u001b[0m\u001b[1;33m\u001b[0m\u001b[0m\n\u001b[0m\u001b[0;32m    992\u001b[0m \u001b[1;33m\u001b[0m\u001b[0m\n\u001b[0;32m    993\u001b[0m                 \u001b[1;31m# we have yielded a scalar ?\u001b[0m\u001b[1;33m\u001b[0m\u001b[1;33m\u001b[0m\u001b[0m\n",
      "\u001b[1;32mC:\\Anaconda3\\lib\\site-packages\\pandas\\core\\indexing.py\u001b[0m in \u001b[0;36m_getitem_axis\u001b[1;34m(self, key, axis)\u001b[0m\n\u001b[0;32m   1624\u001b[0m \u001b[1;33m\u001b[0m\u001b[0m\n\u001b[0;32m   1625\u001b[0m         \u001b[1;31m# fall thru to straight lookup\u001b[0m\u001b[1;33m\u001b[0m\u001b[1;33m\u001b[0m\u001b[0m\n\u001b[1;32m-> 1626\u001b[1;33m         \u001b[0mself\u001b[0m\u001b[1;33m.\u001b[0m\u001b[0m_has_valid_type\u001b[0m\u001b[1;33m(\u001b[0m\u001b[0mkey\u001b[0m\u001b[1;33m,\u001b[0m \u001b[0maxis\u001b[0m\u001b[1;33m)\u001b[0m\u001b[1;33m\u001b[0m\u001b[0m\n\u001b[0m\u001b[0;32m   1627\u001b[0m         \u001b[1;32mreturn\u001b[0m \u001b[0mself\u001b[0m\u001b[1;33m.\u001b[0m\u001b[0m_get_label\u001b[0m\u001b[1;33m(\u001b[0m\u001b[0mkey\u001b[0m\u001b[1;33m,\u001b[0m \u001b[0maxis\u001b[0m\u001b[1;33m=\u001b[0m\u001b[0maxis\u001b[0m\u001b[1;33m)\u001b[0m\u001b[1;33m\u001b[0m\u001b[0m\n\u001b[0;32m   1628\u001b[0m \u001b[1;33m\u001b[0m\u001b[0m\n",
      "\u001b[1;32mC:\\Anaconda3\\lib\\site-packages\\pandas\\core\\indexing.py\u001b[0m in \u001b[0;36m_has_valid_type\u001b[1;34m(self, key, axis)\u001b[0m\n\u001b[0;32m   1512\u001b[0m                 \u001b[1;32mraise\u001b[0m\u001b[1;33m\u001b[0m\u001b[0m\n\u001b[0;32m   1513\u001b[0m             \u001b[1;32mexcept\u001b[0m\u001b[1;33m:\u001b[0m\u001b[1;33m\u001b[0m\u001b[0m\n\u001b[1;32m-> 1514\u001b[1;33m                 \u001b[0merror\u001b[0m\u001b[1;33m(\u001b[0m\u001b[1;33m)\u001b[0m\u001b[1;33m\u001b[0m\u001b[0m\n\u001b[0m\u001b[0;32m   1515\u001b[0m \u001b[1;33m\u001b[0m\u001b[0m\n\u001b[0;32m   1516\u001b[0m         \u001b[1;32mreturn\u001b[0m \u001b[1;32mTrue\u001b[0m\u001b[1;33m\u001b[0m\u001b[0m\n",
      "\u001b[1;32mC:\\Anaconda3\\lib\\site-packages\\pandas\\core\\indexing.py\u001b[0m in \u001b[0;36merror\u001b[1;34m()\u001b[0m\n\u001b[0;32m   1499\u001b[0m                 raise KeyError(u\"the label [{key}] is not in the [{axis}]\"\n\u001b[0;32m   1500\u001b[0m                                .format(key=key,\n\u001b[1;32m-> 1501\u001b[1;33m                                        axis=self.obj._get_axis_name(axis)))\n\u001b[0m\u001b[0;32m   1502\u001b[0m \u001b[1;33m\u001b[0m\u001b[0m\n\u001b[0;32m   1503\u001b[0m             \u001b[1;32mtry\u001b[0m\u001b[1;33m:\u001b[0m\u001b[1;33m\u001b[0m\u001b[0m\n",
      "\u001b[1;31mKeyError\u001b[0m: 'the label [yes] is not in the [index]'"
     ]
    }
   ],
   "source": [
    "str_columns = ['default']\n",
    "str_values(str_columns)"
   ]
  },
  {
   "cell_type": "code",
   "execution_count": 23,
   "metadata": {},
   "outputs": [
    {
     "name": "stdout",
     "output_type": "stream",
     "text": [
      "\n",
      "housing(0-отказы)\t\t\t\t\thousing(1-согласия)\n",
      "-----------------------------\t\t\t-----------------------------\n",
      "Всего:  21925 \t\t\t\t\tВсего:  2787\n",
      "yes - 11430 ( 52.13226909920182 %)\t yes - 1504 ( 53.96483674201651 %)\n",
      "no - 9943 ( 45.35005701254276 %)\t no - 1213 ( 43.523501973448155 %)\n",
      "unknown - 552 ( 2.517673888255416 %)\t unknown - 70 ( 2.5116612845353425 %)\n",
      "================================================================================\n",
      "\n",
      "loan(0-отказы)\t\t\t\t\tloan(1-согласия)\n",
      "-----------------------------\t\t\t-----------------------------\n",
      "Всего:  21925 \t\t\t\t\tВсего:  2787\n",
      "no - 18049 ( 82.32155074116305 %)\t no - 2285 ( 81.98780050233226 %)\n",
      "yes - 3324 ( 15.160775370581527 %)\t yes - 432 ( 15.500538213132401 %)\n",
      "unknown - 552 ( 2.517673888255416 %)\t unknown - 70 ( 2.5116612845353425 %)\n",
      "================================================================================\n",
      "\n",
      "contact(0-отказы)\t\t\t\t\tcontact(1-согласия)\n",
      "-----------------------------\t\t\t-----------------------------\n",
      "Всего:  21925 \t\t\t\t\tВсего:  2787\n",
      "cellular - 13399 ( 61.112884834663625 %)\t cellular - 2330 ( 83.60243989953355 %)\n",
      "telephone - 8526 ( 38.887115165336375 %)\t telephone - 457 ( 16.39756010046645 %)\n",
      "================================================================================\n",
      "\n",
      "month(0-отказы)\t\t\t\t\tmonth(1-согласия)\n",
      "-----------------------------\t\t\t-----------------------------\n",
      "Всего:  21925 \t\t\t\t\tВсего:  2787\n",
      "may - 7696 ( 35.10148232611174 %)\t may - 503 ( 18.048080373161106 %)\n",
      "jul - 3961 ( 18.06613454960091 %)\t jul - 403 ( 14.459992823824901 %)\n",
      "aug - 3338 ( 15.224629418472064 %)\t aug - 393 ( 14.10118406889128 %)\n",
      "jun - 2841 ( 12.957810718358038 %)\t jun - 350 ( 12.558306422676713 %)\n",
      "nov - 2173 ( 9.911060433295326 %)\t nov - 252 ( 9.041980624327234 %)\n",
      "apr - 1254 ( 5.719498289623718 %)\t apr - 314 ( 11.26659490491568 %)\n",
      "oct - 239 ( 1.0900798175598632 %)\t oct - 203 ( 7.283817725152494 %)\n",
      "sep - 185 ( 0.8437856328392246 %)\t sep - 152 ( 5.45389307499103 %)\n",
      "mar - 178 ( 0.8118586088939567 %)\t mar - 168 ( 6.027987082884822 %)\n",
      "dec - 60 ( 0.27366020524515394 %)\t dec - 49 ( 1.7581628991747398 %)\n",
      "================================================================================\n",
      "\n",
      "day_of_week(0-отказы)\t\t\t\t\tday_of_week(1-согласия)\n",
      "-----------------------------\t\t\t-----------------------------\n",
      "Всего:  21925 \t\t\t\t\tВсего:  2787\n",
      "mon - 4539 ( 20.702394526795896 %)\t mon - 504 ( 18.083961248654468 %)\n",
      "thu - 4507 ( 20.556442417331812 %)\t thu - 637 ( 22.856117689271617 %)\n",
      "wed - 4379 ( 19.972633979475486 %)\t wed - 560 ( 20.09329027628274 %)\n",
      "tue - 4277 ( 19.507411630558725 %)\t tue - 569 ( 20.416218155723 %)\n",
      "fri - 4223 ( 19.261117445838085 %)\t fri - 517 ( 18.550412630068173 %)\n",
      "================================================================================\n",
      "\n",
      "poutcome(0-отказы)\t\t\t\t\tpoutcome(1-согласия)\n",
      "-----------------------------\t\t\t-----------------------------\n",
      "Всего:  21925 \t\t\t\t\tВсего:  2787\n",
      "nonexistent - 19445 ( 88.68871151653364 %)\t nonexistent - 1901 ( 68.20954431288123 %)\n",
      "failure - 2209 ( 10.075256556442417 %)\t failure - 357 ( 12.809472551130247 %)\n",
      "success - 271 ( 1.2360319270239453 %)\t success - 529 ( 18.980983135988517 %)\n",
      "================================================================================\n"
     ]
    }
   ],
   "source": [
    "str_columns = ['housing', 'loan', 'contact', 'month', 'day_of_week', 'poutcome']\n",
    "str_values(str_columns)"
   ]
  },
  {
   "cell_type": "code",
   "execution_count": null,
   "metadata": {},
   "outputs": [],
   "source": [
    "# Выводы:\n",
    "# 1.Пропусков нет\n",
    "\n",
    "# 2.Незначимые признаки (не влияющие \"заметно\" на целевое значение, на обучающих данных):\n",
    "# 'housing', 'loan', 'day_of_week'\n",
    "# Эти признаки удалим из обучения..\n",
    "\n",
    "# 3.Значимые признаки: 'job', 'marital', 'education', 'default', 'contact', 'month', 'poutcome'\n",
    "# Некоторая \"явная важность\" обнаруживается в признаках 'default', 'poutcome', \n",
    "# а также в значении \"may\" признака 'month'\n",
    "# Пытаться как-то выделить эти признаки не будем: положимся на модели. Хотя, наверное, можно \n",
    "# было бы \"поиграть весами\", особенно для бинарного признака 'month_may' в линейной регрессии..\n",
    "# Ко всем этим признакам (включая, 'default', 'poutcome' и 'month') можно \n",
    "# применить факторизацию pd.factorize ... \n",
    "# а потом нормализовать по алгоритму: x -> (x - min)/(max - min)"
   ]
  },
  {
   "cell_type": "code",
   "execution_count": null,
   "metadata": {},
   "outputs": [],
   "source": [
    "# Напишем функцию, подготавливающую данные"
   ]
  },
  {
   "cell_type": "code",
   "execution_count": 24,
   "metadata": {},
   "outputs": [],
   "source": [
    "def preproc_data(df_input):\n",
    "    df_output = df_input.copy()\n",
    "    # 1.Удаление признака-идентификатора '_id'\n",
    "    df_output = df_output.drop(['_id'], axis=1)\n",
    "    \n",
    "    # 2.Удаление незначимых числовых признаков ('age', campaign', 'pdays', 'cons.price.idx', \n",
    "    #'cons.conf.idx', 'euribor3m', 'nr.employed')\n",
    "    drop_cols1 = ['age', 'campaign', 'pdays', 'cons.price.idx', 'cons.conf.idx', 'euribor3m', 'nr.employed']\n",
    "    df_output = df_output.drop(drop_cols1, axis=1)\n",
    "    \n",
    "    # 3.Нормализация значимых признаков ('duration', 'previous', 'emp.var.rate')\n",
    "    # .. и умножим на 10\n",
    "    duration_min = df_output['duration'].min()\n",
    "    duration_max = df_output['duration'].max()\n",
    "    df_output['duration'] = df_output['duration'].map(lambda x: (x - duration_min)*10/(duration_max - duration_min))\n",
    "    \n",
    "    previous_min = df_output['previous'].min()\n",
    "    previous_max = df_output['previous'].max()\n",
    "    df_output['previous'] = df_output['previous'].map(lambda x: (x - previous_min)*10/(previous_max - previous_min))\n",
    "    \n",
    "    emp_min = df_output['emp.var.rate'].min()\n",
    "    emp_max = df_output['emp.var.rate'].max()\n",
    "    df_output['emp.var.rate'] = df_output['emp.var.rate'].map(lambda x: (x - emp_min)*10/(emp_max - emp_min))              \n",
    "\n",
    "    # 4.Удаление незначимых категориальных признаков ('housing', 'loan', 'day_of_week')\n",
    "    drop_cols2 = ['housing', 'loan', 'day_of_week']\n",
    "    df_output = df_output.drop(drop_cols2, axis=1)\n",
    "\n",
    "    # 5.Факторизация значимых категориальных признаков ('job', 'marital', 'education', 'default', 'contact', \n",
    "    # 'month', 'poutcome')\n",
    "    df_output['job'] = pd.factorize(df_output['job'])[0]\n",
    "    df_output['marital'] = pd.factorize(df_output['marital'])[0]\n",
    "    df_output['education'] = pd.factorize(df_output['education'])[0]\n",
    "    df_output['default'] = pd.factorize(df_output['default'])[0]\n",
    "    df_output['contact'] = pd.factorize(df_output['contact'])[0]\n",
    "    df_output['month'] = pd.factorize(df_output['month'])[0]\n",
    "    df_output['poutcome'] = pd.factorize(df_output['poutcome'])[0]\n",
    "    \n",
    "    # 6.Нормализация признаков ('job', 'marital', 'education', 'default', 'contact', 'month', 'poutcome'\n",
    "    # .. и умножим на 10\n",
    "    norm_cols = ['job', 'marital', 'education', 'default', 'contact', 'month', 'poutcome']\n",
    "    for col in norm_cols:\n",
    "        col_min = df_output[col].min()\n",
    "        col_max = df_output[col].max()\n",
    "        df_output[col] = df_output[col].map(lambda x: (x - col_min)*10/(col_max - col_min))\n",
    "                  \n",
    "    return df_output"
   ]
  },
  {
   "cell_type": "code",
   "execution_count": null,
   "metadata": {},
   "outputs": [],
   "source": [
    "# Подготовим данные во фреймах df_train и df_test"
   ]
  },
  {
   "cell_type": "code",
   "execution_count": null,
   "metadata": {},
   "outputs": [],
   "source": [
    "# Обучающая выборка"
   ]
  },
  {
   "cell_type": "code",
   "execution_count": 25,
   "metadata": {},
   "outputs": [],
   "source": [
    "df_train_preproc = df_train.pipe(preproc_data)"
   ]
  },
  {
   "cell_type": "code",
   "execution_count": 26,
   "metadata": {},
   "outputs": [],
   "source": [
    "y_train_preproc = df_train_preproc['target']"
   ]
  },
  {
   "cell_type": "code",
   "execution_count": 27,
   "metadata": {},
   "outputs": [],
   "source": [
    "df_train_preproc = df_train_preproc.drop(['target'], axis=1)"
   ]
  },
  {
   "cell_type": "code",
   "execution_count": null,
   "metadata": {},
   "outputs": [],
   "source": [
    "# Тестовая выборка"
   ]
  },
  {
   "cell_type": "code",
   "execution_count": 28,
   "metadata": {},
   "outputs": [],
   "source": [
    "df_test_preproc = df_test.pipe(preproc_data)"
   ]
  },
  {
   "cell_type": "code",
   "execution_count": null,
   "metadata": {},
   "outputs": [],
   "source": [
    "# ----------------------------------------------------------------------"
   ]
  },
  {
   "cell_type": "code",
   "execution_count": 29,
   "metadata": {},
   "outputs": [
    {
     "data": {
      "text/html": [
       "<div>\n",
       "<style scoped>\n",
       "    .dataframe tbody tr th:only-of-type {\n",
       "        vertical-align: middle;\n",
       "    }\n",
       "\n",
       "    .dataframe tbody tr th {\n",
       "        vertical-align: top;\n",
       "    }\n",
       "\n",
       "    .dataframe thead th {\n",
       "        text-align: right;\n",
       "    }\n",
       "</style>\n",
       "<table border=\"1\" class=\"dataframe\">\n",
       "  <thead>\n",
       "    <tr style=\"text-align: right;\">\n",
       "      <th></th>\n",
       "      <th>count</th>\n",
       "      <th>mean</th>\n",
       "      <th>std</th>\n",
       "      <th>min</th>\n",
       "      <th>25%</th>\n",
       "      <th>50%</th>\n",
       "      <th>75%</th>\n",
       "      <th>max</th>\n",
       "    </tr>\n",
       "  </thead>\n",
       "  <tbody>\n",
       "    <tr>\n",
       "      <th>job</th>\n",
       "      <td>24712.0</td>\n",
       "      <td>2.953773</td>\n",
       "      <td>2.338791</td>\n",
       "      <td>0.0</td>\n",
       "      <td>0.909091</td>\n",
       "      <td>2.727273</td>\n",
       "      <td>3.636364</td>\n",
       "      <td>10.0</td>\n",
       "    </tr>\n",
       "    <tr>\n",
       "      <th>marital</th>\n",
       "      <td>24712.0</td>\n",
       "      <td>1.711179</td>\n",
       "      <td>2.318370</td>\n",
       "      <td>0.0</td>\n",
       "      <td>0.000000</td>\n",
       "      <td>0.000000</td>\n",
       "      <td>3.333333</td>\n",
       "      <td>10.0</td>\n",
       "    </tr>\n",
       "    <tr>\n",
       "      <th>education</th>\n",
       "      <td>24712.0</td>\n",
       "      <td>3.927068</td>\n",
       "      <td>2.246212</td>\n",
       "      <td>0.0</td>\n",
       "      <td>2.857143</td>\n",
       "      <td>4.285714</td>\n",
       "      <td>5.714286</td>\n",
       "      <td>10.0</td>\n",
       "    </tr>\n",
       "    <tr>\n",
       "      <th>default</th>\n",
       "      <td>24712.0</td>\n",
       "      <td>3.959412</td>\n",
       "      <td>2.030346</td>\n",
       "      <td>0.0</td>\n",
       "      <td>5.000000</td>\n",
       "      <td>5.000000</td>\n",
       "      <td>5.000000</td>\n",
       "      <td>10.0</td>\n",
       "    </tr>\n",
       "    <tr>\n",
       "      <th>contact</th>\n",
       "      <td>24712.0</td>\n",
       "      <td>3.635076</td>\n",
       "      <td>4.810189</td>\n",
       "      <td>0.0</td>\n",
       "      <td>0.000000</td>\n",
       "      <td>0.000000</td>\n",
       "      <td>10.000000</td>\n",
       "      <td>10.0</td>\n",
       "    </tr>\n",
       "    <tr>\n",
       "      <th>month</th>\n",
       "      <td>24712.0</td>\n",
       "      <td>2.866219</td>\n",
       "      <td>2.539398</td>\n",
       "      <td>0.0</td>\n",
       "      <td>1.111111</td>\n",
       "      <td>2.222222</td>\n",
       "      <td>5.555556</td>\n",
       "      <td>10.0</td>\n",
       "    </tr>\n",
       "    <tr>\n",
       "      <th>duration</th>\n",
       "      <td>24712.0</td>\n",
       "      <td>0.525306</td>\n",
       "      <td>0.531869</td>\n",
       "      <td>0.0</td>\n",
       "      <td>0.207401</td>\n",
       "      <td>0.366002</td>\n",
       "      <td>0.648638</td>\n",
       "      <td>10.0</td>\n",
       "    </tr>\n",
       "    <tr>\n",
       "      <th>previous</th>\n",
       "      <td>24712.0</td>\n",
       "      <td>0.286500</td>\n",
       "      <td>0.819186</td>\n",
       "      <td>0.0</td>\n",
       "      <td>0.000000</td>\n",
       "      <td>0.000000</td>\n",
       "      <td>0.000000</td>\n",
       "      <td>10.0</td>\n",
       "    </tr>\n",
       "    <tr>\n",
       "      <th>poutcome</th>\n",
       "      <td>24712.0</td>\n",
       "      <td>0.842910</td>\n",
       "      <td>2.263384</td>\n",
       "      <td>0.0</td>\n",
       "      <td>0.000000</td>\n",
       "      <td>0.000000</td>\n",
       "      <td>0.000000</td>\n",
       "      <td>10.0</td>\n",
       "    </tr>\n",
       "    <tr>\n",
       "      <th>emp.var.rate</th>\n",
       "      <td>24712.0</td>\n",
       "      <td>7.255652</td>\n",
       "      <td>3.275625</td>\n",
       "      <td>0.0</td>\n",
       "      <td>3.333333</td>\n",
       "      <td>9.375000</td>\n",
       "      <td>10.000000</td>\n",
       "      <td>10.0</td>\n",
       "    </tr>\n",
       "  </tbody>\n",
       "</table>\n",
       "</div>"
      ],
      "text/plain": [
       "                count      mean       std  min       25%       50%        75%  \\\n",
       "job           24712.0  2.953773  2.338791  0.0  0.909091  2.727273   3.636364   \n",
       "marital       24712.0  1.711179  2.318370  0.0  0.000000  0.000000   3.333333   \n",
       "education     24712.0  3.927068  2.246212  0.0  2.857143  4.285714   5.714286   \n",
       "default       24712.0  3.959412  2.030346  0.0  5.000000  5.000000   5.000000   \n",
       "contact       24712.0  3.635076  4.810189  0.0  0.000000  0.000000  10.000000   \n",
       "month         24712.0  2.866219  2.539398  0.0  1.111111  2.222222   5.555556   \n",
       "duration      24712.0  0.525306  0.531869  0.0  0.207401  0.366002   0.648638   \n",
       "previous      24712.0  0.286500  0.819186  0.0  0.000000  0.000000   0.000000   \n",
       "poutcome      24712.0  0.842910  2.263384  0.0  0.000000  0.000000   0.000000   \n",
       "emp.var.rate  24712.0  7.255652  3.275625  0.0  3.333333  9.375000  10.000000   \n",
       "\n",
       "               max  \n",
       "job           10.0  \n",
       "marital       10.0  \n",
       "education     10.0  \n",
       "default       10.0  \n",
       "contact       10.0  \n",
       "month         10.0  \n",
       "duration      10.0  \n",
       "previous      10.0  \n",
       "poutcome      10.0  \n",
       "emp.var.rate  10.0  "
      ]
     },
     "execution_count": 29,
     "metadata": {},
     "output_type": "execute_result"
    }
   ],
   "source": [
    "df_train_preproc.describe().T"
   ]
  },
  {
   "cell_type": "code",
   "execution_count": 30,
   "metadata": {},
   "outputs": [
    {
     "data": {
      "text/html": [
       "<div>\n",
       "<style scoped>\n",
       "    .dataframe tbody tr th:only-of-type {\n",
       "        vertical-align: middle;\n",
       "    }\n",
       "\n",
       "    .dataframe tbody tr th {\n",
       "        vertical-align: top;\n",
       "    }\n",
       "\n",
       "    .dataframe thead th {\n",
       "        text-align: right;\n",
       "    }\n",
       "</style>\n",
       "<table border=\"1\" class=\"dataframe\">\n",
       "  <thead>\n",
       "    <tr style=\"text-align: right;\">\n",
       "      <th></th>\n",
       "      <th>count</th>\n",
       "      <th>mean</th>\n",
       "      <th>std</th>\n",
       "      <th>min</th>\n",
       "      <th>25%</th>\n",
       "      <th>50%</th>\n",
       "      <th>75%</th>\n",
       "      <th>max</th>\n",
       "    </tr>\n",
       "  </thead>\n",
       "  <tbody>\n",
       "    <tr>\n",
       "      <th>job</th>\n",
       "      <td>16476.0</td>\n",
       "      <td>3.416209</td>\n",
       "      <td>2.721424</td>\n",
       "      <td>0.0</td>\n",
       "      <td>1.818182</td>\n",
       "      <td>2.727273</td>\n",
       "      <td>5.454545</td>\n",
       "      <td>10.0</td>\n",
       "    </tr>\n",
       "    <tr>\n",
       "      <th>marital</th>\n",
       "      <td>16476.0</td>\n",
       "      <td>2.228696</td>\n",
       "      <td>2.951254</td>\n",
       "      <td>0.0</td>\n",
       "      <td>0.000000</td>\n",
       "      <td>0.000000</td>\n",
       "      <td>6.666667</td>\n",
       "      <td>10.0</td>\n",
       "    </tr>\n",
       "    <tr>\n",
       "      <th>education</th>\n",
       "      <td>16476.0</td>\n",
       "      <td>3.915652</td>\n",
       "      <td>2.674510</td>\n",
       "      <td>0.0</td>\n",
       "      <td>1.428571</td>\n",
       "      <td>4.285714</td>\n",
       "      <td>5.714286</td>\n",
       "      <td>10.0</td>\n",
       "    </tr>\n",
       "    <tr>\n",
       "      <th>default</th>\n",
       "      <td>16476.0</td>\n",
       "      <td>1.049102</td>\n",
       "      <td>2.037453</td>\n",
       "      <td>0.0</td>\n",
       "      <td>0.000000</td>\n",
       "      <td>0.000000</td>\n",
       "      <td>0.000000</td>\n",
       "      <td>10.0</td>\n",
       "    </tr>\n",
       "    <tr>\n",
       "      <th>contact</th>\n",
       "      <td>16476.0</td>\n",
       "      <td>3.678684</td>\n",
       "      <td>4.822399</td>\n",
       "      <td>0.0</td>\n",
       "      <td>0.000000</td>\n",
       "      <td>0.000000</td>\n",
       "      <td>10.000000</td>\n",
       "      <td>10.0</td>\n",
       "    </tr>\n",
       "    <tr>\n",
       "      <th>month</th>\n",
       "      <td>16476.0</td>\n",
       "      <td>2.352041</td>\n",
       "      <td>2.399068</td>\n",
       "      <td>0.0</td>\n",
       "      <td>0.000000</td>\n",
       "      <td>2.222222</td>\n",
       "      <td>3.333333</td>\n",
       "      <td>10.0</td>\n",
       "    </tr>\n",
       "    <tr>\n",
       "      <th>duration</th>\n",
       "      <td>16476.0</td>\n",
       "      <td>0.733166</td>\n",
       "      <td>0.729212</td>\n",
       "      <td>0.0</td>\n",
       "      <td>0.290764</td>\n",
       "      <td>0.510262</td>\n",
       "      <td>0.909350</td>\n",
       "      <td>10.0</td>\n",
       "    </tr>\n",
       "    <tr>\n",
       "      <th>previous</th>\n",
       "      <td>16476.0</td>\n",
       "      <td>0.249367</td>\n",
       "      <td>0.714218</td>\n",
       "      <td>0.0</td>\n",
       "      <td>0.000000</td>\n",
       "      <td>0.000000</td>\n",
       "      <td>0.000000</td>\n",
       "      <td>10.0</td>\n",
       "    </tr>\n",
       "    <tr>\n",
       "      <th>poutcome</th>\n",
       "      <td>16476.0</td>\n",
       "      <td>4.662236</td>\n",
       "      <td>1.820393</td>\n",
       "      <td>0.0</td>\n",
       "      <td>5.000000</td>\n",
       "      <td>5.000000</td>\n",
       "      <td>5.000000</td>\n",
       "      <td>10.0</td>\n",
       "    </tr>\n",
       "    <tr>\n",
       "      <th>emp.var.rate</th>\n",
       "      <td>16476.0</td>\n",
       "      <td>7.251343</td>\n",
       "      <td>3.268738</td>\n",
       "      <td>0.0</td>\n",
       "      <td>3.333333</td>\n",
       "      <td>9.375000</td>\n",
       "      <td>10.000000</td>\n",
       "      <td>10.0</td>\n",
       "    </tr>\n",
       "  </tbody>\n",
       "</table>\n",
       "</div>"
      ],
      "text/plain": [
       "                count      mean       std  min       25%       50%        75%  \\\n",
       "job           16476.0  3.416209  2.721424  0.0  1.818182  2.727273   5.454545   \n",
       "marital       16476.0  2.228696  2.951254  0.0  0.000000  0.000000   6.666667   \n",
       "education     16476.0  3.915652  2.674510  0.0  1.428571  4.285714   5.714286   \n",
       "default       16476.0  1.049102  2.037453  0.0  0.000000  0.000000   0.000000   \n",
       "contact       16476.0  3.678684  4.822399  0.0  0.000000  0.000000  10.000000   \n",
       "month         16476.0  2.352041  2.399068  0.0  0.000000  2.222222   3.333333   \n",
       "duration      16476.0  0.733166  0.729212  0.0  0.290764  0.510262   0.909350   \n",
       "previous      16476.0  0.249367  0.714218  0.0  0.000000  0.000000   0.000000   \n",
       "poutcome      16476.0  4.662236  1.820393  0.0  5.000000  5.000000   5.000000   \n",
       "emp.var.rate  16476.0  7.251343  3.268738  0.0  3.333333  9.375000  10.000000   \n",
       "\n",
       "               max  \n",
       "job           10.0  \n",
       "marital       10.0  \n",
       "education     10.0  \n",
       "default       10.0  \n",
       "contact       10.0  \n",
       "month         10.0  \n",
       "duration      10.0  \n",
       "previous      10.0  \n",
       "poutcome      10.0  \n",
       "emp.var.rate  10.0  "
      ]
     },
     "execution_count": 30,
     "metadata": {},
     "output_type": "execute_result"
    }
   ],
   "source": [
    "df_test_preproc.describe().T"
   ]
  },
  {
   "cell_type": "code",
   "execution_count": null,
   "metadata": {},
   "outputs": [],
   "source": [
    "# ----------------------------------------------------------------------"
   ]
  },
  {
   "cell_type": "code",
   "execution_count": null,
   "metadata": {},
   "outputs": [],
   "source": [
    "# Формируем массивы"
   ]
  },
  {
   "cell_type": "code",
   "execution_count": 31,
   "metadata": {},
   "outputs": [],
   "source": [
    "X = df_train_preproc.values\n",
    "y = y_train_preproc.values\n",
    "X_for_test = df_test_preproc.values"
   ]
  },
  {
   "cell_type": "code",
   "execution_count": null,
   "metadata": {},
   "outputs": [],
   "source": [
    "#===========================================================================\n",
    "#==========================================================================="
   ]
  },
  {
   "cell_type": "code",
   "execution_count": null,
   "metadata": {},
   "outputs": [],
   "source": [
    "# Кросс валидация"
   ]
  },
  {
   "cell_type": "code",
   "execution_count": 32,
   "metadata": {},
   "outputs": [],
   "source": [
    "from sklearn.model_selection import StratifiedKFold\n",
    "from sklearn.model_selection import cross_val_score"
   ]
  },
  {
   "cell_type": "code",
   "execution_count": 33,
   "metadata": {},
   "outputs": [],
   "source": [
    "# Кросс валидация на 10 фолдах с сохранением пропорции классов в каждом фолде\n",
    "cv = StratifiedKFold(n_splits=10, random_state=123)"
   ]
  },
  {
   "cell_type": "code",
   "execution_count": 34,
   "metadata": {},
   "outputs": [
    {
     "name": "stdout",
     "output_type": "stream",
     "text": [
      "=== Очередной фолд ===\n",
      "Обучение - 22240 объектов, валидация - 2472 объектов\n",
      "Доля отказавшихся: обучение - 0.11276978417266187, валидация - 0.11286407766990292\n",
      "=== Очередной фолд ===\n",
      "Обучение - 22240 объектов, валидация - 2472 объектов\n",
      "Доля отказавшихся: обучение - 0.11276978417266187, валидация - 0.11286407766990292\n",
      "=== Очередной фолд ===\n",
      "Обучение - 22240 объектов, валидация - 2472 объектов\n",
      "Доля отказавшихся: обучение - 0.11276978417266187, валидация - 0.11286407766990292\n",
      "=== Очередной фолд ===\n",
      "Обучение - 22240 объектов, валидация - 2472 объектов\n",
      "Доля отказавшихся: обучение - 0.11276978417266187, валидация - 0.11286407766990292\n",
      "=== Очередной фолд ===\n",
      "Обучение - 22240 объектов, валидация - 2472 объектов\n",
      "Доля отказавшихся: обучение - 0.11276978417266187, валидация - 0.11286407766990292\n",
      "=== Очередной фолд ===\n",
      "Обучение - 22241 объектов, валидация - 2471 объектов\n",
      "Доля отказавшихся: обучение - 0.11276471381682478, валидация - 0.11290975313638203\n",
      "=== Очередной фолд ===\n",
      "Обучение - 22241 объектов, валидация - 2471 объектов\n",
      "Доля отказавшихся: обучение - 0.11276471381682478, валидация - 0.11290975313638203\n",
      "=== Очередной фолд ===\n",
      "Обучение - 22242 объектов, валидация - 2470 объектов\n",
      "Доля отказавшихся: обучение - 0.11280460390252675, валидация - 0.1125506072874494\n",
      "=== Очередной фолд ===\n",
      "Обучение - 22242 объектов, валидация - 2470 объектов\n",
      "Доля отказавшихся: обучение - 0.11280460390252675, валидация - 0.1125506072874494\n",
      "=== Очередной фолд ===\n",
      "Обучение - 22242 объектов, валидация - 2470 объектов\n",
      "Доля отказавшихся: обучение - 0.11280460390252675, валидация - 0.1125506072874494\n"
     ]
    }
   ],
   "source": [
    "# train_idx и test_idx - это индексы объектов, попадающие в обучающие и валидационные части\n",
    "for train_idx, test_idx in cv.split(X, y):\n",
    "    print('=== Очередной фолд ===')\n",
    "    print('Обучение - {} объектов, валидация - {} объектов'.format(train_idx.shape[0], test_idx.shape[0]))\n",
    "    print('Доля отказавшихся: обучение - {}, валидация - {}'.format(y[train_idx].mean(), y[test_idx].mean()))"
   ]
  },
  {
   "cell_type": "code",
   "execution_count": 35,
   "metadata": {},
   "outputs": [],
   "source": [
    "# Модель с алгоритммом \"Метод ближайших соседей\" - KNeighborsClassifier\n",
    "#------------------------------------------------------------------\n",
    "from sklearn.neighbors import KNeighborsClassifier\n",
    "KNN = KNeighborsClassifier()"
   ]
  },
  {
   "cell_type": "code",
   "execution_count": 38,
   "metadata": {},
   "outputs": [],
   "source": [
    "from sklearn.grid_search import RandomizedSearchCV as RCV\n",
    "from sklearn.grid_search import GridSearchCV"
   ]
  },
  {
   "cell_type": "code",
   "execution_count": 37,
   "metadata": {},
   "outputs": [],
   "source": [
    "#Init signature: KNeighborsClassifier(n_neighbors=5, weights='uniform', algorithm='auto', \n",
    "#leaf_size=30, p=2, metric='minkowski', metric_params=None, n_jobs=1, **kwargs)"
   ]
  },
  {
   "cell_type": "code",
   "execution_count": 39,
   "metadata": {},
   "outputs": [],
   "source": [
    "KNN_params = {'n_neighbors': range(1, 30), 'p' : range(1, 2)}"
   ]
  },
  {
   "cell_type": "code",
   "execution_count": 40,
   "metadata": {},
   "outputs": [],
   "source": [
    "KNN_grid = RCV(KNN, KNN_params, cv=5, n_jobs=-1, verbose=True)"
   ]
  },
  {
   "cell_type": "code",
   "execution_count": 41,
   "metadata": {},
   "outputs": [
    {
     "name": "stdout",
     "output_type": "stream",
     "text": [
      "Fitting 5 folds for each of 10 candidates, totalling 50 fits\n"
     ]
    },
    {
     "name": "stderr",
     "output_type": "stream",
     "text": [
      "[Parallel(n_jobs=-1)]: Done  34 tasks      | elapsed:    7.5s\n",
      "[Parallel(n_jobs=-1)]: Done  50 out of  50 | elapsed:    9.2s finished\n"
     ]
    },
    {
     "data": {
      "text/plain": [
       "RandomizedSearchCV(cv=5, error_score='raise',\n",
       "          estimator=KNeighborsClassifier(algorithm='auto', leaf_size=30, metric='minkowski',\n",
       "           metric_params=None, n_jobs=1, n_neighbors=5, p=2,\n",
       "           weights='uniform'),\n",
       "          fit_params={}, iid=True, n_iter=10, n_jobs=-1,\n",
       "          param_distributions={'n_neighbors': range(1, 30), 'p': range(1, 2)},\n",
       "          pre_dispatch='2*n_jobs', random_state=None, refit=True,\n",
       "          scoring=None, verbose=True)"
      ]
     },
     "execution_count": 41,
     "metadata": {},
     "output_type": "execute_result"
    }
   ],
   "source": [
    "KNN_grid.fit(X, y)"
   ]
  },
  {
   "cell_type": "code",
   "execution_count": 42,
   "metadata": {},
   "outputs": [
    {
     "data": {
      "text/plain": [
       "{'n_neighbors': 8, 'p': 1}"
      ]
     },
     "execution_count": 42,
     "metadata": {},
     "output_type": "execute_result"
    }
   ],
   "source": [
    "KNN_grid.best_params_"
   ]
  },
  {
   "cell_type": "code",
   "execution_count": 43,
   "metadata": {},
   "outputs": [
    {
     "data": {
      "text/plain": [
       "0.8987131757850437"
      ]
     },
     "execution_count": 43,
     "metadata": {},
     "output_type": "execute_result"
    }
   ],
   "source": [
    "KNN_grid.best_score_"
   ]
  },
  {
   "cell_type": "code",
   "execution_count": 44,
   "metadata": {},
   "outputs": [],
   "source": [
    "KNN = KNeighborsClassifier (n_neighbors=8, p=1)"
   ]
  },
  {
   "cell_type": "code",
   "execution_count": 45,
   "metadata": {},
   "outputs": [
    {
     "data": {
      "text/plain": [
       "KNeighborsClassifier(algorithm='auto', leaf_size=30, metric='minkowski',\n",
       "           metric_params=None, n_jobs=1, n_neighbors=8, p=1,\n",
       "           weights='uniform')"
      ]
     },
     "execution_count": 45,
     "metadata": {},
     "output_type": "execute_result"
    }
   ],
   "source": [
    "KNN"
   ]
  },
  {
   "cell_type": "code",
   "execution_count": 46,
   "metadata": {},
   "outputs": [],
   "source": [
    "# Посчитаем меру качества roc_auc на кросс-валидации для модели KNN\n",
    "scoresKNN = cross_val_score(\n",
    "    KNN,\n",
    "    X,\n",
    "    y,\n",
    "    scoring='roc_auc',\n",
    "    cv=cv\n",
    ")"
   ]
  },
  {
   "cell_type": "code",
   "execution_count": 47,
   "metadata": {},
   "outputs": [
    {
     "data": {
      "text/plain": [
       "array([0.85890672, 0.86654425, 0.8577463 , 0.8691029 , 0.85612906,\n",
       "       0.84720587, 0.88907529, 0.84953379, 0.85828782, 0.84798958])"
      ]
     },
     "execution_count": 47,
     "metadata": {},
     "output_type": "execute_result"
    }
   ],
   "source": [
    "# Оценки roc-auc на кросс-валидации\n",
    "scoresKNN"
   ]
  },
  {
   "cell_type": "code",
   "execution_count": 48,
   "metadata": {},
   "outputs": [
    {
     "data": {
      "text/plain": [
       "0.8600521587744797"
      ]
     },
     "execution_count": 48,
     "metadata": {},
     "output_type": "execute_result"
    }
   ],
   "source": [
    "# Для оценки обобщающей способности возьмем среднее\n",
    "scoresKNN.mean()"
   ]
  },
  {
   "cell_type": "code",
   "execution_count": 49,
   "metadata": {},
   "outputs": [],
   "source": [
    "# Модель с алгоритммом \"Дерево решений\" - DecisionTreeClassifier\n",
    "#------------------------------------------------------------------\n",
    "from sklearn.tree import DecisionTreeClassifier\n",
    "DTC = DecisionTreeClassifier(class_weight = 'balanced')"
   ]
  },
  {
   "cell_type": "code",
   "execution_count": 50,
   "metadata": {},
   "outputs": [],
   "source": [
    "DTC_params = {'max_depth': range(5, 40), 'max_features': range(2,10), 'criterion': ['entropy', 'gini']}"
   ]
  },
  {
   "cell_type": "code",
   "execution_count": 51,
   "metadata": {},
   "outputs": [],
   "source": [
    "DTC_grid = RCV(DTC, DTC_params, cv=5, n_jobs=-1, verbose=True)"
   ]
  },
  {
   "cell_type": "code",
   "execution_count": 52,
   "metadata": {},
   "outputs": [
    {
     "name": "stdout",
     "output_type": "stream",
     "text": [
      "Fitting 5 folds for each of 10 candidates, totalling 50 fits\n"
     ]
    },
    {
     "name": "stderr",
     "output_type": "stream",
     "text": [
      "[Parallel(n_jobs=-1)]: Done  34 tasks      | elapsed:    3.1s\n",
      "[Parallel(n_jobs=-1)]: Done  50 out of  50 | elapsed:    3.3s finished\n"
     ]
    },
    {
     "data": {
      "text/plain": [
       "RandomizedSearchCV(cv=5, error_score='raise',\n",
       "          estimator=DecisionTreeClassifier(class_weight='balanced', criterion='gini',\n",
       "            max_depth=None, max_features=None, max_leaf_nodes=None,\n",
       "            min_impurity_decrease=0.0, min_impurity_split=None,\n",
       "            min_samples_leaf=1, min_samples_split=2,\n",
       "            min_weight_fraction_leaf=0.0, presort=False, random_state=None,\n",
       "            splitter='best'),\n",
       "          fit_params={}, iid=True, n_iter=10, n_jobs=-1,\n",
       "          param_distributions={'max_depth': range(5, 40), 'max_features': range(2, 10), 'criterion': ['entropy', 'gini']},\n",
       "          pre_dispatch='2*n_jobs', random_state=None, refit=True,\n",
       "          scoring=None, verbose=True)"
      ]
     },
     "execution_count": 52,
     "metadata": {},
     "output_type": "execute_result"
    }
   ],
   "source": [
    "DTC_grid.fit(X, y)"
   ]
  },
  {
   "cell_type": "code",
   "execution_count": 53,
   "metadata": {},
   "outputs": [
    {
     "data": {
      "text/plain": [
       "{'criterion': 'gini', 'max_depth': 29, 'max_features': 6}"
      ]
     },
     "execution_count": 53,
     "metadata": {},
     "output_type": "execute_result"
    }
   ],
   "source": [
    "DTC_grid.best_params_"
   ]
  },
  {
   "cell_type": "code",
   "execution_count": 54,
   "metadata": {},
   "outputs": [
    {
     "data": {
      "text/plain": [
       "0.887180317254775"
      ]
     },
     "execution_count": 54,
     "metadata": {},
     "output_type": "execute_result"
    }
   ],
   "source": [
    "DTC_grid.best_score_"
   ]
  },
  {
   "cell_type": "code",
   "execution_count": 55,
   "metadata": {},
   "outputs": [],
   "source": [
    "DTC = DecisionTreeClassifier(class_weight='balanced', criterion='gini', max_depth=29, max_features=6)"
   ]
  },
  {
   "cell_type": "code",
   "execution_count": 56,
   "metadata": {},
   "outputs": [
    {
     "data": {
      "text/plain": [
       "DecisionTreeClassifier(class_weight='balanced', criterion='gini',\n",
       "            max_depth=29, max_features=6, max_leaf_nodes=None,\n",
       "            min_impurity_decrease=0.0, min_impurity_split=None,\n",
       "            min_samples_leaf=1, min_samples_split=2,\n",
       "            min_weight_fraction_leaf=0.0, presort=False, random_state=None,\n",
       "            splitter='best')"
      ]
     },
     "execution_count": 56,
     "metadata": {},
     "output_type": "execute_result"
    }
   ],
   "source": [
    "DTC"
   ]
  },
  {
   "cell_type": "code",
   "execution_count": 57,
   "metadata": {},
   "outputs": [],
   "source": [
    "# Посчитаем меру качества roc_auc на кросс-валидации для модели DTC\n",
    "scoresDTC = cross_val_score(\n",
    "    DTC,\n",
    "    X,\n",
    "    y,\n",
    "    scoring='roc_auc',\n",
    "    cv=cv\n",
    ")"
   ]
  },
  {
   "cell_type": "code",
   "execution_count": 58,
   "metadata": {},
   "outputs": [
    {
     "data": {
      "text/plain": [
       "array([0.70132729, 0.71251636, 0.68140565, 0.72314402, 0.69418662,\n",
       "       0.6858248 , 0.73037177, 0.70291741, 0.7049211 , 0.70660479])"
      ]
     },
     "execution_count": 58,
     "metadata": {},
     "output_type": "execute_result"
    }
   ],
   "source": [
    "# Оценки roc-auc на кросс-валидации\n",
    "scoresDTC"
   ]
  },
  {
   "cell_type": "code",
   "execution_count": 59,
   "metadata": {},
   "outputs": [
    {
     "data": {
      "text/plain": [
       "0.7043219805333681"
      ]
     },
     "execution_count": 59,
     "metadata": {},
     "output_type": "execute_result"
    }
   ],
   "source": [
    "# Для оценки обобщающей способности возьмем среднее\n",
    "scoresDTC.mean()"
   ]
  },
  {
   "cell_type": "code",
   "execution_count": 60,
   "metadata": {},
   "outputs": [],
   "source": [
    "# Модель с алгоритммом \"Логистическая регрессия\" - LogisticRegression\n",
    "#------------------------------------------------------------------\n",
    "from sklearn.linear_model import LogisticRegression\n",
    "LR = LogisticRegression(class_weight = 'balanced')"
   ]
  },
  {
   "cell_type": "code",
   "execution_count": 61,
   "metadata": {},
   "outputs": [],
   "source": [
    "LR_params = {'fit_intercept': [True], 'solver' : ['newton-cg', 'lbfgs', 'sag', 'saga'], \\\n",
    "             'multi_class': ['ovr', 'multinomial']}"
   ]
  },
  {
   "cell_type": "code",
   "execution_count": 62,
   "metadata": {},
   "outputs": [],
   "source": [
    "LR_grid = GridSearchCV(LR, LR_params, cv=5, n_jobs=-1, verbose=True)"
   ]
  },
  {
   "cell_type": "code",
   "execution_count": 63,
   "metadata": {},
   "outputs": [
    {
     "name": "stdout",
     "output_type": "stream",
     "text": [
      "Fitting 5 folds for each of 8 candidates, totalling 40 fits\n"
     ]
    },
    {
     "name": "stderr",
     "output_type": "stream",
     "text": [
      "[Parallel(n_jobs=-1)]: Done  40 out of  40 | elapsed:   11.0s finished\n",
      "C:\\Anaconda3\\lib\\site-packages\\sklearn\\linear_model\\sag.py:326: ConvergenceWarning: The max_iter was reached which means the coef_ did not converge\n",
      "  \"the coef_ did not converge\", ConvergenceWarning)\n"
     ]
    },
    {
     "data": {
      "text/plain": [
       "GridSearchCV(cv=5, error_score='raise',\n",
       "       estimator=LogisticRegression(C=1.0, class_weight='balanced', dual=False,\n",
       "          fit_intercept=True, intercept_scaling=1, max_iter=100,\n",
       "          multi_class='ovr', n_jobs=1, penalty='l2', random_state=None,\n",
       "          solver='liblinear', tol=0.0001, verbose=0, warm_start=False),\n",
       "       fit_params={}, iid=True, n_jobs=-1,\n",
       "       param_grid={'fit_intercept': [True], 'solver': ['newton-cg', 'lbfgs', 'sag', 'saga'], 'multi_class': ['ovr', 'multinomial']},\n",
       "       pre_dispatch='2*n_jobs', refit=True, scoring=None, verbose=True)"
      ]
     },
     "execution_count": 63,
     "metadata": {},
     "output_type": "execute_result"
    }
   ],
   "source": [
    "LR_grid.fit(X, y)"
   ]
  },
  {
   "cell_type": "code",
   "execution_count": 64,
   "metadata": {},
   "outputs": [
    {
     "data": {
      "text/plain": [
       "{'fit_intercept': True, 'multi_class': 'multinomial', 'solver': 'sag'}"
      ]
     },
     "execution_count": 64,
     "metadata": {},
     "output_type": "execute_result"
    }
   ],
   "source": [
    "LR_grid.best_params_"
   ]
  },
  {
   "cell_type": "code",
   "execution_count": 65,
   "metadata": {},
   "outputs": [
    {
     "data": {
      "text/plain": [
       "0.8400372288766591"
      ]
     },
     "execution_count": 65,
     "metadata": {},
     "output_type": "execute_result"
    }
   ],
   "source": [
    "LR_grid.best_score_"
   ]
  },
  {
   "cell_type": "code",
   "execution_count": 72,
   "metadata": {},
   "outputs": [],
   "source": [
    "#LR = LogisticRegression(class_weight='balanced', fit_intercept=True, multi_class='multinomial', solver='sag')\n",
    "#Лучше:\n",
    "LR = LogisticRegression(class_weight='balanced', fit_intercept=True, multi_class='ovr', solver='newton-cg')"
   ]
  },
  {
   "cell_type": "code",
   "execution_count": 73,
   "metadata": {},
   "outputs": [
    {
     "data": {
      "text/plain": [
       "LogisticRegression(C=1.0, class_weight='balanced', dual=False,\n",
       "          fit_intercept=True, intercept_scaling=1, max_iter=100,\n",
       "          multi_class='ovr', n_jobs=1, penalty='l2', random_state=None,\n",
       "          solver='newton-cg', tol=0.0001, verbose=0, warm_start=False)"
      ]
     },
     "execution_count": 73,
     "metadata": {},
     "output_type": "execute_result"
    }
   ],
   "source": [
    "LR"
   ]
  },
  {
   "cell_type": "code",
   "execution_count": 74,
   "metadata": {},
   "outputs": [],
   "source": [
    "# Посчитаем меру качества roc_auc на кросс-валидации для модели LR\n",
    "scoresLR = cross_val_score(\n",
    "    LR,\n",
    "    X,\n",
    "    y,\n",
    "    scoring='roc_auc',\n",
    "    cv=cv\n",
    ")"
   ]
  },
  {
   "cell_type": "code",
   "execution_count": 75,
   "metadata": {},
   "outputs": [
    {
     "data": {
      "text/plain": [
       "array([0.9185074 , 0.91449006, 0.91761993, 0.92784389, 0.91219373,\n",
       "       0.90852285, 0.93191599, 0.92391725, 0.90774497, 0.92217613])"
      ]
     },
     "execution_count": 75,
     "metadata": {},
     "output_type": "execute_result"
    }
   ],
   "source": [
    "# Оценки roc-auc на кросс-валидации\n",
    "scoresLR"
   ]
  },
  {
   "cell_type": "code",
   "execution_count": 76,
   "metadata": {},
   "outputs": [
    {
     "data": {
      "text/plain": [
       "0.9184932208551471"
      ]
     },
     "execution_count": 76,
     "metadata": {},
     "output_type": "execute_result"
    }
   ],
   "source": [
    "# Для оценки обобщающей способности возьмем среднее\n",
    "scoresLR.mean()"
   ]
  },
  {
   "cell_type": "code",
   "execution_count": null,
   "metadata": {},
   "outputs": [],
   "source": [
    "#================================================================="
   ]
  },
  {
   "cell_type": "code",
   "execution_count": 77,
   "metadata": {},
   "outputs": [
    {
     "name": "stdout",
     "output_type": "stream",
     "text": [
      "Метод ближайших соседей:  0.8600521587744797\n",
      "Дерево принятия решений:  0.7043219805333681\n",
      "Логистическая регрессия:  0.9184932208551471\n"
     ]
    }
   ],
   "source": [
    "print('Метод ближайших соседей: ', scoresKNN.mean())\n",
    "print('Дерево принятия решений: ', scoresDTC.mean())\n",
    "print('Логистическая регрессия: ', scoresLR.mean())"
   ]
  },
  {
   "cell_type": "code",
   "execution_count": null,
   "metadata": {},
   "outputs": [],
   "source": [
    "# Лучший результат - на Логистической регрессии !"
   ]
  },
  {
   "cell_type": "code",
   "execution_count": null,
   "metadata": {},
   "outputs": [],
   "source": [
    "# Протестируем на этой модели"
   ]
  },
  {
   "cell_type": "code",
   "execution_count": 91,
   "metadata": {},
   "outputs": [],
   "source": [
    "df_train2 = pd.read_csv('data/train.csv', encoding='utf-8',sep=',')"
   ]
  },
  {
   "cell_type": "code",
   "execution_count": 92,
   "metadata": {},
   "outputs": [],
   "source": [
    "df_test2 = pd.read_csv('data/test.csv', encoding='utf-8',sep=',')"
   ]
  },
  {
   "cell_type": "code",
   "execution_count": 88,
   "metadata": {},
   "outputs": [],
   "source": [
    "# Перепишем функцию, подготавливающую данные.... без удаления '_id'"
   ]
  },
  {
   "cell_type": "code",
   "execution_count": 93,
   "metadata": {},
   "outputs": [],
   "source": [
    "def preproc_data2(df_input):\n",
    "    df_output = df_input.copy()\n",
    "    # 1.Удаление признака-идентификатора '_id'\n",
    "    #df_output = df_output.drop(['_id'], axis=1)\n",
    "    \n",
    "    # 2.Удаление незначимых числовых признаков ('age', campaign', 'pdays', 'cons.price.idx', \n",
    "    #'cons.conf.idx', 'euribor3m', 'nr.employed')\n",
    "    drop_cols1 = ['age', 'campaign', 'pdays', 'cons.price.idx', 'cons.conf.idx', 'euribor3m', 'nr.employed']\n",
    "    df_output = df_output.drop(drop_cols1, axis=1)\n",
    "    \n",
    "    # 3.Нормализация значимых признаков ('duration', 'previous', 'emp.var.rate')\n",
    "    # .. и умножим на 10\n",
    "    duration_min = df_output['duration'].min()\n",
    "    duration_max = df_output['duration'].max()\n",
    "    df_output['duration'] = df_output['duration'].map(lambda x: (x - duration_min)*10/(duration_max - duration_min))\n",
    "    \n",
    "    previous_min = df_output['previous'].min()\n",
    "    previous_max = df_output['previous'].max()\n",
    "    df_output['previous'] = df_output['previous'].map(lambda x: (x - previous_min)*10/(previous_max - previous_min))\n",
    "    \n",
    "    emp_min = df_output['emp.var.rate'].min()\n",
    "    emp_max = df_output['emp.var.rate'].max()\n",
    "    df_output['emp.var.rate'] = df_output['emp.var.rate'].map(lambda x: (x - emp_min)*10/(emp_max - emp_min))              \n",
    "\n",
    "    # 4.Удаление незначимых категориальных признаков ('housing', 'loan', 'day_of_week')\n",
    "    drop_cols2 = ['housing', 'loan', 'day_of_week']\n",
    "    df_output = df_output.drop(drop_cols2, axis=1)\n",
    "\n",
    "    # 5.Факторизация значимых категориальных признаков ('job', 'marital', 'education', 'default', 'contact', \n",
    "    # 'month', 'poutcome')\n",
    "    df_output['job'] = pd.factorize(df_output['job'])[0]\n",
    "    df_output['marital'] = pd.factorize(df_output['marital'])[0]\n",
    "    df_output['education'] = pd.factorize(df_output['education'])[0]\n",
    "    df_output['default'] = pd.factorize(df_output['default'])[0]\n",
    "    df_output['contact'] = pd.factorize(df_output['contact'])[0]\n",
    "    df_output['month'] = pd.factorize(df_output['month'])[0]\n",
    "    df_output['poutcome'] = pd.factorize(df_output['poutcome'])[0]\n",
    "    \n",
    "    # 6.Нормализация признаков ('job', 'marital', 'education', 'default', 'contact', 'month', 'poutcome'\n",
    "    # .. и умножим на 10\n",
    "    norm_cols = ['job', 'marital', 'education', 'default', 'contact', 'month', 'poutcome']\n",
    "    for col in norm_cols:\n",
    "        col_min = df_output[col].min()\n",
    "        col_max = df_output[col].max()\n",
    "        df_output[col] = df_output[col].map(lambda x: (x - col_min)*10/(col_max - col_min))\n",
    "                  \n",
    "    return df_output"
   ]
  },
  {
   "cell_type": "code",
   "execution_count": 94,
   "metadata": {},
   "outputs": [],
   "source": [
    "df_train_preproc2 = df_train2.pipe(preproc_data2)"
   ]
  },
  {
   "cell_type": "code",
   "execution_count": 95,
   "metadata": {},
   "outputs": [
    {
     "data": {
      "text/html": [
       "<div>\n",
       "<style scoped>\n",
       "    .dataframe tbody tr th:only-of-type {\n",
       "        vertical-align: middle;\n",
       "    }\n",
       "\n",
       "    .dataframe tbody tr th {\n",
       "        vertical-align: top;\n",
       "    }\n",
       "\n",
       "    .dataframe thead th {\n",
       "        text-align: right;\n",
       "    }\n",
       "</style>\n",
       "<table border=\"1\" class=\"dataframe\">\n",
       "  <thead>\n",
       "    <tr style=\"text-align: right;\">\n",
       "      <th></th>\n",
       "      <th>_id</th>\n",
       "      <th>job</th>\n",
       "      <th>marital</th>\n",
       "      <th>education</th>\n",
       "      <th>default</th>\n",
       "      <th>contact</th>\n",
       "      <th>month</th>\n",
       "      <th>duration</th>\n",
       "      <th>previous</th>\n",
       "      <th>poutcome</th>\n",
       "      <th>emp.var.rate</th>\n",
       "      <th>target</th>\n",
       "    </tr>\n",
       "  </thead>\n",
       "  <tbody>\n",
       "    <tr>\n",
       "      <th>0</th>\n",
       "      <td>df7489733b004bbe40d3d37b34f82419</td>\n",
       "      <td>0.000000</td>\n",
       "      <td>0.000000</td>\n",
       "      <td>0.000000</td>\n",
       "      <td>0.0</td>\n",
       "      <td>0.0</td>\n",
       "      <td>0.000000</td>\n",
       "      <td>0.176901</td>\n",
       "      <td>0.0</td>\n",
       "      <td>0.0</td>\n",
       "      <td>10.000000</td>\n",
       "      <td>0</td>\n",
       "    </tr>\n",
       "    <tr>\n",
       "      <th>1</th>\n",
       "      <td>905a0b9a5456ee962223033473666be3</td>\n",
       "      <td>0.909091</td>\n",
       "      <td>3.333333</td>\n",
       "      <td>1.428571</td>\n",
       "      <td>5.0</td>\n",
       "      <td>10.0</td>\n",
       "      <td>1.111111</td>\n",
       "      <td>0.591704</td>\n",
       "      <td>0.0</td>\n",
       "      <td>0.0</td>\n",
       "      <td>9.375000</td>\n",
       "      <td>0</td>\n",
       "    </tr>\n",
       "    <tr>\n",
       "      <th>2</th>\n",
       "      <td>02d69c07ec6d68e31d641edd45ce61cd</td>\n",
       "      <td>1.818182</td>\n",
       "      <td>0.000000</td>\n",
       "      <td>1.428571</td>\n",
       "      <td>5.0</td>\n",
       "      <td>0.0</td>\n",
       "      <td>0.000000</td>\n",
       "      <td>0.370069</td>\n",
       "      <td>0.0</td>\n",
       "      <td>0.0</td>\n",
       "      <td>10.000000</td>\n",
       "      <td>0</td>\n",
       "    </tr>\n",
       "    <tr>\n",
       "      <th>3</th>\n",
       "      <td>e492fbe0cccaf67cdb5c0944dbc8a167</td>\n",
       "      <td>1.818182</td>\n",
       "      <td>0.000000</td>\n",
       "      <td>2.857143</td>\n",
       "      <td>5.0</td>\n",
       "      <td>10.0</td>\n",
       "      <td>1.111111</td>\n",
       "      <td>0.366002</td>\n",
       "      <td>0.0</td>\n",
       "      <td>0.0</td>\n",
       "      <td>9.375000</td>\n",
       "      <td>0</td>\n",
       "    </tr>\n",
       "    <tr>\n",
       "      <th>4</th>\n",
       "      <td>ac2dc6f5835bdea8e71dd99b65208d07</td>\n",
       "      <td>0.909091</td>\n",
       "      <td>3.333333</td>\n",
       "      <td>4.285714</td>\n",
       "      <td>5.0</td>\n",
       "      <td>10.0</td>\n",
       "      <td>0.000000</td>\n",
       "      <td>0.012200</td>\n",
       "      <td>0.0</td>\n",
       "      <td>0.0</td>\n",
       "      <td>3.541667</td>\n",
       "      <td>0</td>\n",
       "    </tr>\n",
       "  </tbody>\n",
       "</table>\n",
       "</div>"
      ],
      "text/plain": [
       "                                _id       job   marital  education  default  \\\n",
       "0  df7489733b004bbe40d3d37b34f82419  0.000000  0.000000   0.000000      0.0   \n",
       "1  905a0b9a5456ee962223033473666be3  0.909091  3.333333   1.428571      5.0   \n",
       "2  02d69c07ec6d68e31d641edd45ce61cd  1.818182  0.000000   1.428571      5.0   \n",
       "3  e492fbe0cccaf67cdb5c0944dbc8a167  1.818182  0.000000   2.857143      5.0   \n",
       "4  ac2dc6f5835bdea8e71dd99b65208d07  0.909091  3.333333   4.285714      5.0   \n",
       "\n",
       "   contact     month  duration  previous  poutcome  emp.var.rate  target  \n",
       "0      0.0  0.000000  0.176901       0.0       0.0     10.000000       0  \n",
       "1     10.0  1.111111  0.591704       0.0       0.0      9.375000       0  \n",
       "2      0.0  0.000000  0.370069       0.0       0.0     10.000000       0  \n",
       "3     10.0  1.111111  0.366002       0.0       0.0      9.375000       0  \n",
       "4     10.0  0.000000  0.012200       0.0       0.0      3.541667       0  "
      ]
     },
     "execution_count": 95,
     "metadata": {},
     "output_type": "execute_result"
    }
   ],
   "source": [
    "df_train_preproc2.head()"
   ]
  },
  {
   "cell_type": "code",
   "execution_count": 108,
   "metadata": {},
   "outputs": [],
   "source": [
    "X_train_preproc2 = df_train_preproc2.drop(['_id', 'target'], axis=1)"
   ]
  },
  {
   "cell_type": "code",
   "execution_count": 109,
   "metadata": {},
   "outputs": [
    {
     "data": {
      "text/html": [
       "<div>\n",
       "<style scoped>\n",
       "    .dataframe tbody tr th:only-of-type {\n",
       "        vertical-align: middle;\n",
       "    }\n",
       "\n",
       "    .dataframe tbody tr th {\n",
       "        vertical-align: top;\n",
       "    }\n",
       "\n",
       "    .dataframe thead th {\n",
       "        text-align: right;\n",
       "    }\n",
       "</style>\n",
       "<table border=\"1\" class=\"dataframe\">\n",
       "  <thead>\n",
       "    <tr style=\"text-align: right;\">\n",
       "      <th></th>\n",
       "      <th>job</th>\n",
       "      <th>marital</th>\n",
       "      <th>education</th>\n",
       "      <th>default</th>\n",
       "      <th>contact</th>\n",
       "      <th>month</th>\n",
       "      <th>duration</th>\n",
       "      <th>previous</th>\n",
       "      <th>poutcome</th>\n",
       "      <th>emp.var.rate</th>\n",
       "    </tr>\n",
       "  </thead>\n",
       "  <tbody>\n",
       "    <tr>\n",
       "      <th>0</th>\n",
       "      <td>0.000000</td>\n",
       "      <td>0.000000</td>\n",
       "      <td>0.000000</td>\n",
       "      <td>0.0</td>\n",
       "      <td>0.0</td>\n",
       "      <td>0.000000</td>\n",
       "      <td>0.176901</td>\n",
       "      <td>0.0</td>\n",
       "      <td>0.0</td>\n",
       "      <td>10.000000</td>\n",
       "    </tr>\n",
       "    <tr>\n",
       "      <th>1</th>\n",
       "      <td>0.909091</td>\n",
       "      <td>3.333333</td>\n",
       "      <td>1.428571</td>\n",
       "      <td>5.0</td>\n",
       "      <td>10.0</td>\n",
       "      <td>1.111111</td>\n",
       "      <td>0.591704</td>\n",
       "      <td>0.0</td>\n",
       "      <td>0.0</td>\n",
       "      <td>9.375000</td>\n",
       "    </tr>\n",
       "    <tr>\n",
       "      <th>2</th>\n",
       "      <td>1.818182</td>\n",
       "      <td>0.000000</td>\n",
       "      <td>1.428571</td>\n",
       "      <td>5.0</td>\n",
       "      <td>0.0</td>\n",
       "      <td>0.000000</td>\n",
       "      <td>0.370069</td>\n",
       "      <td>0.0</td>\n",
       "      <td>0.0</td>\n",
       "      <td>10.000000</td>\n",
       "    </tr>\n",
       "    <tr>\n",
       "      <th>3</th>\n",
       "      <td>1.818182</td>\n",
       "      <td>0.000000</td>\n",
       "      <td>2.857143</td>\n",
       "      <td>5.0</td>\n",
       "      <td>10.0</td>\n",
       "      <td>1.111111</td>\n",
       "      <td>0.366002</td>\n",
       "      <td>0.0</td>\n",
       "      <td>0.0</td>\n",
       "      <td>9.375000</td>\n",
       "    </tr>\n",
       "    <tr>\n",
       "      <th>4</th>\n",
       "      <td>0.909091</td>\n",
       "      <td>3.333333</td>\n",
       "      <td>4.285714</td>\n",
       "      <td>5.0</td>\n",
       "      <td>10.0</td>\n",
       "      <td>0.000000</td>\n",
       "      <td>0.012200</td>\n",
       "      <td>0.0</td>\n",
       "      <td>0.0</td>\n",
       "      <td>3.541667</td>\n",
       "    </tr>\n",
       "  </tbody>\n",
       "</table>\n",
       "</div>"
      ],
      "text/plain": [
       "        job   marital  education  default  contact     month  duration  \\\n",
       "0  0.000000  0.000000   0.000000      0.0      0.0  0.000000  0.176901   \n",
       "1  0.909091  3.333333   1.428571      5.0     10.0  1.111111  0.591704   \n",
       "2  1.818182  0.000000   1.428571      5.0      0.0  0.000000  0.370069   \n",
       "3  1.818182  0.000000   2.857143      5.0     10.0  1.111111  0.366002   \n",
       "4  0.909091  3.333333   4.285714      5.0     10.0  0.000000  0.012200   \n",
       "\n",
       "   previous  poutcome  emp.var.rate  \n",
       "0       0.0       0.0     10.000000  \n",
       "1       0.0       0.0      9.375000  \n",
       "2       0.0       0.0     10.000000  \n",
       "3       0.0       0.0      9.375000  \n",
       "4       0.0       0.0      3.541667  "
      ]
     },
     "execution_count": 109,
     "metadata": {},
     "output_type": "execute_result"
    }
   ],
   "source": [
    "X_train_preproc2.head()"
   ]
  },
  {
   "cell_type": "code",
   "execution_count": 110,
   "metadata": {},
   "outputs": [],
   "source": [
    "y_train_preproc2 = df_train_preproc2['target']"
   ]
  },
  {
   "cell_type": "code",
   "execution_count": 111,
   "metadata": {},
   "outputs": [],
   "source": [
    "df_test_preproc2 = df_test2.pipe(preproc_data2)"
   ]
  },
  {
   "cell_type": "code",
   "execution_count": 112,
   "metadata": {},
   "outputs": [
    {
     "data": {
      "text/html": [
       "<div>\n",
       "<style scoped>\n",
       "    .dataframe tbody tr th:only-of-type {\n",
       "        vertical-align: middle;\n",
       "    }\n",
       "\n",
       "    .dataframe tbody tr th {\n",
       "        vertical-align: top;\n",
       "    }\n",
       "\n",
       "    .dataframe thead th {\n",
       "        text-align: right;\n",
       "    }\n",
       "</style>\n",
       "<table border=\"1\" class=\"dataframe\">\n",
       "  <thead>\n",
       "    <tr style=\"text-align: right;\">\n",
       "      <th></th>\n",
       "      <th>_id</th>\n",
       "      <th>job</th>\n",
       "      <th>marital</th>\n",
       "      <th>education</th>\n",
       "      <th>default</th>\n",
       "      <th>contact</th>\n",
       "      <th>month</th>\n",
       "      <th>duration</th>\n",
       "      <th>previous</th>\n",
       "      <th>poutcome</th>\n",
       "      <th>emp.var.rate</th>\n",
       "    </tr>\n",
       "  </thead>\n",
       "  <tbody>\n",
       "    <tr>\n",
       "      <th>0</th>\n",
       "      <td>66810d8e6bf2b41c880a7bc6c8a1e295</td>\n",
       "      <td>0.000000</td>\n",
       "      <td>0.0</td>\n",
       "      <td>0.000000</td>\n",
       "      <td>0.0</td>\n",
       "      <td>0.0</td>\n",
       "      <td>0.000000</td>\n",
       "      <td>1.054732</td>\n",
       "      <td>1.428571</td>\n",
       "      <td>0.0</td>\n",
       "      <td>3.333333</td>\n",
       "    </tr>\n",
       "    <tr>\n",
       "      <th>1</th>\n",
       "      <td>ccac3879652b08cb8b44c1920fd93afa</td>\n",
       "      <td>0.909091</td>\n",
       "      <td>0.0</td>\n",
       "      <td>1.428571</td>\n",
       "      <td>5.0</td>\n",
       "      <td>10.0</td>\n",
       "      <td>0.000000</td>\n",
       "      <td>0.809578</td>\n",
       "      <td>0.000000</td>\n",
       "      <td>5.0</td>\n",
       "      <td>9.375000</td>\n",
       "    </tr>\n",
       "    <tr>\n",
       "      <th>2</th>\n",
       "      <td>fcccab4d7a76f70647f015f2c84c2af8</td>\n",
       "      <td>1.818182</td>\n",
       "      <td>0.0</td>\n",
       "      <td>2.857143</td>\n",
       "      <td>0.0</td>\n",
       "      <td>0.0</td>\n",
       "      <td>0.000000</td>\n",
       "      <td>0.145382</td>\n",
       "      <td>1.428571</td>\n",
       "      <td>0.0</td>\n",
       "      <td>3.333333</td>\n",
       "    </tr>\n",
       "    <tr>\n",
       "      <th>3</th>\n",
       "      <td>ed8399278c30678dab739045fa12b440</td>\n",
       "      <td>2.727273</td>\n",
       "      <td>0.0</td>\n",
       "      <td>0.000000</td>\n",
       "      <td>0.0</td>\n",
       "      <td>10.0</td>\n",
       "      <td>1.111111</td>\n",
       "      <td>1.009122</td>\n",
       "      <td>0.000000</td>\n",
       "      <td>5.0</td>\n",
       "      <td>10.000000</td>\n",
       "    </tr>\n",
       "    <tr>\n",
       "      <th>4</th>\n",
       "      <td>1d4d62ac5cabcb48bac7112813f290cb</td>\n",
       "      <td>3.636364</td>\n",
       "      <td>0.0</td>\n",
       "      <td>0.000000</td>\n",
       "      <td>0.0</td>\n",
       "      <td>0.0</td>\n",
       "      <td>2.222222</td>\n",
       "      <td>0.535918</td>\n",
       "      <td>0.000000</td>\n",
       "      <td>5.0</td>\n",
       "      <td>10.000000</td>\n",
       "    </tr>\n",
       "  </tbody>\n",
       "</table>\n",
       "</div>"
      ],
      "text/plain": [
       "                                _id       job  marital  education  default  \\\n",
       "0  66810d8e6bf2b41c880a7bc6c8a1e295  0.000000      0.0   0.000000      0.0   \n",
       "1  ccac3879652b08cb8b44c1920fd93afa  0.909091      0.0   1.428571      5.0   \n",
       "2  fcccab4d7a76f70647f015f2c84c2af8  1.818182      0.0   2.857143      0.0   \n",
       "3  ed8399278c30678dab739045fa12b440  2.727273      0.0   0.000000      0.0   \n",
       "4  1d4d62ac5cabcb48bac7112813f290cb  3.636364      0.0   0.000000      0.0   \n",
       "\n",
       "   contact     month  duration  previous  poutcome  emp.var.rate  \n",
       "0      0.0  0.000000  1.054732  1.428571       0.0      3.333333  \n",
       "1     10.0  0.000000  0.809578  0.000000       5.0      9.375000  \n",
       "2      0.0  0.000000  0.145382  1.428571       0.0      3.333333  \n",
       "3     10.0  1.111111  1.009122  0.000000       5.0     10.000000  \n",
       "4      0.0  2.222222  0.535918  0.000000       5.0     10.000000  "
      ]
     },
     "execution_count": 112,
     "metadata": {},
     "output_type": "execute_result"
    }
   ],
   "source": [
    "df_test_preproc2.head()"
   ]
  },
  {
   "cell_type": "code",
   "execution_count": 113,
   "metadata": {},
   "outputs": [],
   "source": [
    "X_test_preproc2 = df_test_preproc2.drop(['_id'], axis=1)"
   ]
  },
  {
   "cell_type": "code",
   "execution_count": 114,
   "metadata": {},
   "outputs": [
    {
     "data": {
      "text/html": [
       "<div>\n",
       "<style scoped>\n",
       "    .dataframe tbody tr th:only-of-type {\n",
       "        vertical-align: middle;\n",
       "    }\n",
       "\n",
       "    .dataframe tbody tr th {\n",
       "        vertical-align: top;\n",
       "    }\n",
       "\n",
       "    .dataframe thead th {\n",
       "        text-align: right;\n",
       "    }\n",
       "</style>\n",
       "<table border=\"1\" class=\"dataframe\">\n",
       "  <thead>\n",
       "    <tr style=\"text-align: right;\">\n",
       "      <th></th>\n",
       "      <th>job</th>\n",
       "      <th>marital</th>\n",
       "      <th>education</th>\n",
       "      <th>default</th>\n",
       "      <th>contact</th>\n",
       "      <th>month</th>\n",
       "      <th>duration</th>\n",
       "      <th>previous</th>\n",
       "      <th>poutcome</th>\n",
       "      <th>emp.var.rate</th>\n",
       "    </tr>\n",
       "  </thead>\n",
       "  <tbody>\n",
       "    <tr>\n",
       "      <th>0</th>\n",
       "      <td>0.000000</td>\n",
       "      <td>0.0</td>\n",
       "      <td>0.000000</td>\n",
       "      <td>0.0</td>\n",
       "      <td>0.0</td>\n",
       "      <td>0.000000</td>\n",
       "      <td>1.054732</td>\n",
       "      <td>1.428571</td>\n",
       "      <td>0.0</td>\n",
       "      <td>3.333333</td>\n",
       "    </tr>\n",
       "    <tr>\n",
       "      <th>1</th>\n",
       "      <td>0.909091</td>\n",
       "      <td>0.0</td>\n",
       "      <td>1.428571</td>\n",
       "      <td>5.0</td>\n",
       "      <td>10.0</td>\n",
       "      <td>0.000000</td>\n",
       "      <td>0.809578</td>\n",
       "      <td>0.000000</td>\n",
       "      <td>5.0</td>\n",
       "      <td>9.375000</td>\n",
       "    </tr>\n",
       "    <tr>\n",
       "      <th>2</th>\n",
       "      <td>1.818182</td>\n",
       "      <td>0.0</td>\n",
       "      <td>2.857143</td>\n",
       "      <td>0.0</td>\n",
       "      <td>0.0</td>\n",
       "      <td>0.000000</td>\n",
       "      <td>0.145382</td>\n",
       "      <td>1.428571</td>\n",
       "      <td>0.0</td>\n",
       "      <td>3.333333</td>\n",
       "    </tr>\n",
       "    <tr>\n",
       "      <th>3</th>\n",
       "      <td>2.727273</td>\n",
       "      <td>0.0</td>\n",
       "      <td>0.000000</td>\n",
       "      <td>0.0</td>\n",
       "      <td>10.0</td>\n",
       "      <td>1.111111</td>\n",
       "      <td>1.009122</td>\n",
       "      <td>0.000000</td>\n",
       "      <td>5.0</td>\n",
       "      <td>10.000000</td>\n",
       "    </tr>\n",
       "    <tr>\n",
       "      <th>4</th>\n",
       "      <td>3.636364</td>\n",
       "      <td>0.0</td>\n",
       "      <td>0.000000</td>\n",
       "      <td>0.0</td>\n",
       "      <td>0.0</td>\n",
       "      <td>2.222222</td>\n",
       "      <td>0.535918</td>\n",
       "      <td>0.000000</td>\n",
       "      <td>5.0</td>\n",
       "      <td>10.000000</td>\n",
       "    </tr>\n",
       "  </tbody>\n",
       "</table>\n",
       "</div>"
      ],
      "text/plain": [
       "        job  marital  education  default  contact     month  duration  \\\n",
       "0  0.000000      0.0   0.000000      0.0      0.0  0.000000  1.054732   \n",
       "1  0.909091      0.0   1.428571      5.0     10.0  0.000000  0.809578   \n",
       "2  1.818182      0.0   2.857143      0.0      0.0  0.000000  0.145382   \n",
       "3  2.727273      0.0   0.000000      0.0     10.0  1.111111  1.009122   \n",
       "4  3.636364      0.0   0.000000      0.0      0.0  2.222222  0.535918   \n",
       "\n",
       "   previous  poutcome  emp.var.rate  \n",
       "0  1.428571       0.0      3.333333  \n",
       "1  0.000000       5.0      9.375000  \n",
       "2  1.428571       0.0      3.333333  \n",
       "3  0.000000       5.0     10.000000  \n",
       "4  0.000000       5.0     10.000000  "
      ]
     },
     "execution_count": 114,
     "metadata": {},
     "output_type": "execute_result"
    }
   ],
   "source": [
    "X_test_preproc2.head()"
   ]
  },
  {
   "cell_type": "code",
   "execution_count": 115,
   "metadata": {},
   "outputs": [],
   "source": [
    "LR = LogisticRegression(class_weight='balanced', fit_intercept=True, multi_class='ovr', solver='newton-cg')"
   ]
  },
  {
   "cell_type": "code",
   "execution_count": 116,
   "metadata": {},
   "outputs": [
    {
     "data": {
      "text/plain": [
       "LogisticRegression(C=1.0, class_weight='balanced', dual=False,\n",
       "          fit_intercept=True, intercept_scaling=1, max_iter=100,\n",
       "          multi_class='ovr', n_jobs=1, penalty='l2', random_state=None,\n",
       "          solver='newton-cg', tol=0.0001, verbose=0, warm_start=False)"
      ]
     },
     "execution_count": 116,
     "metadata": {},
     "output_type": "execute_result"
    }
   ],
   "source": [
    "LR.fit(X_train_preproc2.values, y_train_preproc2.values)"
   ]
  },
  {
   "cell_type": "code",
   "execution_count": 117,
   "metadata": {},
   "outputs": [],
   "source": [
    "y_target = LR.predict(X_test_preproc2.values)"
   ]
  },
  {
   "cell_type": "code",
   "execution_count": null,
   "metadata": {},
   "outputs": [],
   "source": [
    "# ---------------------------------------------------------"
   ]
  },
  {
   "cell_type": "code",
   "execution_count": 119,
   "metadata": {},
   "outputs": [],
   "source": [
    "df_predict_final = df_test_preproc2"
   ]
  },
  {
   "cell_type": "code",
   "execution_count": 120,
   "metadata": {},
   "outputs": [],
   "source": [
    "df_predict_final['target'] = y_target"
   ]
  },
  {
   "cell_type": "code",
   "execution_count": 121,
   "metadata": {},
   "outputs": [
    {
     "data": {
      "text/html": [
       "<div>\n",
       "<style scoped>\n",
       "    .dataframe tbody tr th:only-of-type {\n",
       "        vertical-align: middle;\n",
       "    }\n",
       "\n",
       "    .dataframe tbody tr th {\n",
       "        vertical-align: top;\n",
       "    }\n",
       "\n",
       "    .dataframe thead th {\n",
       "        text-align: right;\n",
       "    }\n",
       "</style>\n",
       "<table border=\"1\" class=\"dataframe\">\n",
       "  <thead>\n",
       "    <tr style=\"text-align: right;\">\n",
       "      <th></th>\n",
       "      <th>_id</th>\n",
       "      <th>job</th>\n",
       "      <th>marital</th>\n",
       "      <th>education</th>\n",
       "      <th>default</th>\n",
       "      <th>contact</th>\n",
       "      <th>month</th>\n",
       "      <th>duration</th>\n",
       "      <th>previous</th>\n",
       "      <th>poutcome</th>\n",
       "      <th>emp.var.rate</th>\n",
       "      <th>target</th>\n",
       "    </tr>\n",
       "  </thead>\n",
       "  <tbody>\n",
       "    <tr>\n",
       "      <th>0</th>\n",
       "      <td>66810d8e6bf2b41c880a7bc6c8a1e295</td>\n",
       "      <td>0.000000</td>\n",
       "      <td>0.0</td>\n",
       "      <td>0.000000</td>\n",
       "      <td>0.0</td>\n",
       "      <td>0.0</td>\n",
       "      <td>0.000000</td>\n",
       "      <td>1.054732</td>\n",
       "      <td>1.428571</td>\n",
       "      <td>0.0</td>\n",
       "      <td>3.333333</td>\n",
       "      <td>1</td>\n",
       "    </tr>\n",
       "    <tr>\n",
       "      <th>1</th>\n",
       "      <td>ccac3879652b08cb8b44c1920fd93afa</td>\n",
       "      <td>0.909091</td>\n",
       "      <td>0.0</td>\n",
       "      <td>1.428571</td>\n",
       "      <td>5.0</td>\n",
       "      <td>10.0</td>\n",
       "      <td>0.000000</td>\n",
       "      <td>0.809578</td>\n",
       "      <td>0.000000</td>\n",
       "      <td>5.0</td>\n",
       "      <td>9.375000</td>\n",
       "      <td>0</td>\n",
       "    </tr>\n",
       "    <tr>\n",
       "      <th>2</th>\n",
       "      <td>fcccab4d7a76f70647f015f2c84c2af8</td>\n",
       "      <td>1.818182</td>\n",
       "      <td>0.0</td>\n",
       "      <td>2.857143</td>\n",
       "      <td>0.0</td>\n",
       "      <td>0.0</td>\n",
       "      <td>0.000000</td>\n",
       "      <td>0.145382</td>\n",
       "      <td>1.428571</td>\n",
       "      <td>0.0</td>\n",
       "      <td>3.333333</td>\n",
       "      <td>0</td>\n",
       "    </tr>\n",
       "    <tr>\n",
       "      <th>3</th>\n",
       "      <td>ed8399278c30678dab739045fa12b440</td>\n",
       "      <td>2.727273</td>\n",
       "      <td>0.0</td>\n",
       "      <td>0.000000</td>\n",
       "      <td>0.0</td>\n",
       "      <td>10.0</td>\n",
       "      <td>1.111111</td>\n",
       "      <td>1.009122</td>\n",
       "      <td>0.000000</td>\n",
       "      <td>5.0</td>\n",
       "      <td>10.000000</td>\n",
       "      <td>0</td>\n",
       "    </tr>\n",
       "    <tr>\n",
       "      <th>4</th>\n",
       "      <td>1d4d62ac5cabcb48bac7112813f290cb</td>\n",
       "      <td>3.636364</td>\n",
       "      <td>0.0</td>\n",
       "      <td>0.000000</td>\n",
       "      <td>0.0</td>\n",
       "      <td>0.0</td>\n",
       "      <td>2.222222</td>\n",
       "      <td>0.535918</td>\n",
       "      <td>0.000000</td>\n",
       "      <td>5.0</td>\n",
       "      <td>10.000000</td>\n",
       "      <td>0</td>\n",
       "    </tr>\n",
       "  </tbody>\n",
       "</table>\n",
       "</div>"
      ],
      "text/plain": [
       "                                _id       job  marital  education  default  \\\n",
       "0  66810d8e6bf2b41c880a7bc6c8a1e295  0.000000      0.0   0.000000      0.0   \n",
       "1  ccac3879652b08cb8b44c1920fd93afa  0.909091      0.0   1.428571      5.0   \n",
       "2  fcccab4d7a76f70647f015f2c84c2af8  1.818182      0.0   2.857143      0.0   \n",
       "3  ed8399278c30678dab739045fa12b440  2.727273      0.0   0.000000      0.0   \n",
       "4  1d4d62ac5cabcb48bac7112813f290cb  3.636364      0.0   0.000000      0.0   \n",
       "\n",
       "   contact     month  duration  previous  poutcome  emp.var.rate  target  \n",
       "0      0.0  0.000000  1.054732  1.428571       0.0      3.333333       1  \n",
       "1     10.0  0.000000  0.809578  0.000000       5.0      9.375000       0  \n",
       "2      0.0  0.000000  0.145382  1.428571       0.0      3.333333       0  \n",
       "3     10.0  1.111111  1.009122  0.000000       5.0     10.000000       0  \n",
       "4      0.0  2.222222  0.535918  0.000000       5.0     10.000000       0  "
      ]
     },
     "execution_count": 121,
     "metadata": {},
     "output_type": "execute_result"
    }
   ],
   "source": [
    "df_predict_final.head()"
   ]
  },
  {
   "cell_type": "code",
   "execution_count": null,
   "metadata": {},
   "outputs": [],
   "source": [
    "df_predict_final = df_predict_final.drop(['job', 'marital', 'education', ''], axis=1)"
   ]
  },
  {
   "cell_type": "code",
   "execution_count": 123,
   "metadata": {},
   "outputs": [],
   "source": [
    "df_predict_final = df_predict_final.loc[\n",
    "    :,\n",
    "    ['_id', 'target']\n",
    "]"
   ]
  },
  {
   "cell_type": "code",
   "execution_count": 125,
   "metadata": {},
   "outputs": [
    {
     "data": {
      "text/plain": [
       "<bound method NDFrame.head of                                     _id  target\n",
       "0      66810d8e6bf2b41c880a7bc6c8a1e295       1\n",
       "1      ccac3879652b08cb8b44c1920fd93afa       0\n",
       "2      fcccab4d7a76f70647f015f2c84c2af8       0\n",
       "3      ed8399278c30678dab739045fa12b440       0\n",
       "4      1d4d62ac5cabcb48bac7112813f290cb       0\n",
       "5      aba2dec4c5cab88824f36babd24b986f       1\n",
       "6      06f318f1dd178e738f675bb88a5adb84       0\n",
       "7      d5036f5956e42ee6207296238fc4bc1d       0\n",
       "8      fe0cc8933698ad4046ff2b82f65756eb       0\n",
       "9      70190122f4ebf196535e11b33eb95b81       0\n",
       "10     8c2e044ac444afd4d0dea67eba0079c4       1\n",
       "11     0d7db1117ed3606d7bbbb65d584b5c2f       1\n",
       "12     aa3d1e4ba96323b5449a23cb54badc50       1\n",
       "13     d312d9b1ffdab785a806490ca0450f7b       1\n",
       "14     56da3f911d7cc5e8f47f2703b74bdc45       0\n",
       "15     19afb1a10078e901994a1e1e2c058652       0\n",
       "16     9ac0fc025e2f551a7d5214a606a77434       0\n",
       "17     4bc819b6f4ebbedca0fe354ba5dc7ba3       0\n",
       "18     1c02af75529cdaee5f8822a5251f5c63       0\n",
       "19     9d0424c7a80ebde8cc8b5520721592f2       1\n",
       "20     cf005d4bc86312d5f1032e08ef342e05       1\n",
       "21     6abe7bc6263ac81d7f6764c6b0489703       0\n",
       "22     b56ee107fc7abbabfa317f9209cbc5fd       1\n",
       "23     2fd2f7790cd8d0c638d55f41b1f323a2       0\n",
       "24     bd3b2a1af1abd0d48af835aa69848232       0\n",
       "25     d50372645903431bd7ceb57bbf1cea06       0\n",
       "26     8a11f5487e2e8a6e91d0ab1b6003b55e       0\n",
       "27     ab96e787fdf0827bbebcf95b1243d041       0\n",
       "28     233d244d79e364f517c846cb3ab1932a       0\n",
       "29     45971d4e3a47775bb5a7260bb5ea3c36       0\n",
       "...                                 ...     ...\n",
       "16446  2e7eb3af58c97ad5b28e4ab4066a3166       0\n",
       "16447  bf36dd4830374ffc70f6ee3299d64f18       1\n",
       "16448  6f414266555cb6936d452d7f670c1d2a       0\n",
       "16449  51a8cd987d9172230140ba02680c6888       0\n",
       "16450  f22bc2082ffda4152fc91e62d405ae33       0\n",
       "16451  78fce17fbfc1649f81525fbff8ce56f6       0\n",
       "16452  678b27ff29561345f45c22997d4163b9       0\n",
       "16453  6b97722a63470c0e3141afd64dedef69       0\n",
       "16454  4f76847f045acfba87b9b31212e5ff04       1\n",
       "16455  227b74315a0f38c0468d34cb32c33130       0\n",
       "16456  2bfba6d34acd59d1b336a902334fe580       0\n",
       "16457  14800414cadc5a5225cfc88a0ad0df5f       0\n",
       "16458  990a8c3609aa6b418e9a1d3d03e4bae2       0\n",
       "16459  305b62eb82268b8fbe96f40d6bbf8c0d       0\n",
       "16460  85192427224a3f6c41d0098da3fc8f42       0\n",
       "16461  1d64b28026755f338788275caa736ae5       0\n",
       "16462  148b22ee82a0ab3e0a0361db70fcb8f9       0\n",
       "16463  be5b5fbf76512e42f33920e507651637       1\n",
       "16464  40abfe7908c781d5501f1f659e4c4635       1\n",
       "16465  47db50c3c18cafca48d259b44f77459b       1\n",
       "16466  909fbfc6b2be0973f005059719b1a74e       1\n",
       "16467  2f3adcb8c4dcdd9d639fc4565a9c3d18       0\n",
       "16468  647c7ffbf8a9d521e35889915d4e2b5b       0\n",
       "16469  b2661316878841e8616c63e394753904       0\n",
       "16470  5d85440e397384c76a5653fab7e0e5e7       0\n",
       "16471  114c0574c96ac1c71d6529b863a566d8       1\n",
       "16472  467e0cc4856d357b4905a3a862e952b4       0\n",
       "16473  d1f7a1196e049d5bff3375606950c86c       0\n",
       "16474  3e837730540e9b0d6a980b3f6a12bb48       0\n",
       "16475  82db4c5dd22e8182b30917571fe77c4d       0\n",
       "\n",
       "[16476 rows x 2 columns]>"
      ]
     },
     "execution_count": 125,
     "metadata": {},
     "output_type": "execute_result"
    }
   ],
   "source": [
    "df_predict_final.head"
   ]
  },
  {
   "cell_type": "code",
   "execution_count": 127,
   "metadata": {},
   "outputs": [
    {
     "data": {
      "text/plain": [
       "16476"
      ]
     },
     "execution_count": 127,
     "metadata": {},
     "output_type": "execute_result"
    }
   ],
   "source": [
    "df_predict_final['target'].count()"
   ]
  },
  {
   "cell_type": "code",
   "execution_count": 128,
   "metadata": {},
   "outputs": [
    {
     "data": {
      "text/plain": [
       "5199"
      ]
     },
     "execution_count": 128,
     "metadata": {},
     "output_type": "execute_result"
    }
   ],
   "source": [
    "df_predict_final['target'].sum()"
   ]
  },
  {
   "cell_type": "code",
   "execution_count": null,
   "metadata": {},
   "outputs": [],
   "source": [
    "# -----------------------------------------\n",
    "# Выгружаем в CSV"
   ]
  },
  {
   "cell_type": "code",
   "execution_count": 131,
   "metadata": {},
   "outputs": [],
   "source": [
    "df_predict_final.to_csv('submission.csv', encoding='utf-8',sep=',', index=None)"
   ]
  },
  {
   "cell_type": "code",
   "execution_count": null,
   "metadata": {},
   "outputs": [],
   "source": [
    "# ====================================================================\n",
    "# ===================================================================="
   ]
  }
 ],
 "metadata": {
  "anaconda-cloud": {},
  "kernelspec": {
   "display_name": "Python 3",
   "language": "python",
   "name": "python3"
  },
  "language_info": {
   "codemirror_mode": {
    "name": "ipython",
    "version": 3
   },
   "file_extension": ".py",
   "mimetype": "text/x-python",
   "name": "python",
   "nbconvert_exporter": "python",
   "pygments_lexer": "ipython3",
   "version": "3.6.4"
  },
  "toc": {
   "colors": {
    "hover_highlight": "#DAA520",
    "navigate_num": "#000000",
    "navigate_text": "#333333",
    "running_highlight": "#FF0000",
    "selected_highlight": "#FFD700",
    "sidebar_border": "#EEEEEE",
    "wrapper_background": "#FFFFFF"
   },
   "moveMenuLeft": true,
   "nav_menu": {
    "height": "31px",
    "width": "253px"
   },
   "navigate_menu": true,
   "number_sections": false,
   "sideBar": true,
   "threshold": 4,
   "toc_cell": false,
   "toc_section_display": "block",
   "toc_window_display": false,
   "widenNotebook": false
  }
 },
 "nbformat": 4,
 "nbformat_minor": 2
}
